{
 "cells": [
  {
   "cell_type": "markdown",
   "metadata": {},
   "source": [
    "# Welcome to the Synergy Roundtable\n",
    "created by Stephan Koch & Dirk Derichsweiler - <br>\n",
    "do not hesitate to contact us: stephan.koch@hpe.com or dirk.derichsweiler@hpe.com\n",
    "\n",
    "\n",
    "\n",
    "jupyter Notebook can be found: https://github.com/stephan-koch/Synergy-Automation\n",
    "\n",
    "\n",
    "#### requirements\n",
    "- Anaconda (Python) recommended (for the Jupyter installation and pip)\n",
    "- Jupyter-Powershell (https://github.com/vors/jupyter-powershell)\n",
    "\n",
    "\n",
    "#### additional information\n",
    "\n",
    "On your HPE OneView appliance, or online<br>\n",
    "https://10.0.20.50/help/cic-rest/en/content/index.html#home.html<br>\n",
    "https://10.0.20.50/api-docs/current/ <br>\n",
    "http://www.hpe.com/info/oneview/docs <br>\n",
    "https://developer.hpe.com/\n",
    "\n",
    "#### Powershell (POSH) specific\n",
    "https://github.com/HewlettPackard/POSH-HPOneView<br>\n",
    "\n",
    "\n",
    "\n",
    "### Installation of HP OneView Module\n",
    "only required, if not installed yet."
   ]
  },
  {
   "cell_type": "markdown",
   "metadata": {},
   "source": [
    "\n",
    "### Login\n",
    "\n",
    "<img src=\"Pictures/Login.gif\" height=\"500\" width=\"500\" align=\"left\">"
   ]
  },
  {
   "cell_type": "code",
   "execution_count": null,
   "metadata": {},
   "outputs": [],
   "source": [
    "#for mounting ISO via ILO\n",
    "install-module -Name HPRESTCmdlets -Confirm:$false\n",
    "get-command -module HPRESTCmdlets"
   ]
  },
  {
   "cell_type": "markdown",
   "metadata": {},
   "source": [
    "#### import the PowerShell module:"
   ]
  },
  {
   "cell_type": "code",
   "execution_count": 1,
   "metadata": {},
   "outputs": [
    {
     "name": "stdout",
     "output_type": "stream",
     "text": []
    }
   ],
   "source": [
    "Import-Module -name hponeview.500"
   ]
  },
  {
   "cell_type": "markdown",
   "metadata": {},
   "source": [
    "#### login:"
   ]
  },
  {
   "cell_type": "code",
   "execution_count": 2,
   "metadata": {},
   "outputs": [
    {
     "name": "stdout",
     "output_type": "stream",
     "text": [
      "\n",
      "ConnectionID Name       UserName AuthLoginDomain Default\n",
      "------------ ----       -------- --------------- -------\n",
      "1            10.0.20.50 python   local           True\n",
      "\n"
     ]
    }
   ],
   "source": [
    "$username = \"XXXXXXX\"\n",
    "$password = ConvertTo-SecureString \"XXXXXXXX\" -AsPlainText -Force\n",
    "$psCred = New-Object System.Management.Automation.PSCredential -ArgumentList ($username, $password)\n",
    "\n",
    "Connect-HPOVMgmt -Hostname 10.0.20.50 -AuthLoginDomain local -Credential $psCred"
   ]
  },
  {
   "cell_type": "code",
   "execution_count": 3,
   "metadata": {},
   "outputs": [
    {
     "name": "stdout",
     "output_type": "stream",
     "text": [
      "LTg5MjM4Nzk1NjIwUuOwhKbdkmnJ3kuVov6tb67KPblbTpeP\n"
     ]
    }
   ],
   "source": [
    "$token = $global:ConnectedSessions[0].SessionID\n",
    "$token"
   ]
  },
  {
   "cell_type": "markdown",
   "metadata": {},
   "source": [
    "#### ADVANCED: which functions are available?"
   ]
  },
  {
   "cell_type": "code",
   "execution_count": 4,
   "metadata": {},
   "outputs": [
    {
     "name": "stdout",
     "output_type": "stream",
     "text": [
      "\n",
      "CommandType     Name                                               Version    S\n",
      "                                                                              o\n",
      "                                                                              u\n",
      "                                                                              r\n",
      "                                                                              c\n",
      "                                                                              e\n",
      "-----------     ----                                               -------    -\n",
      "Alias           Add-HPOVHypervisorManager                          5.0.2295.… H\n",
      "Alias           Add-HPOVSppFile                                    5.0.2295.… H\n",
      "Alias           Copy-HPOVProfile                                   5.0.2295.… H\n",
      "Alias           Get-HPOVHypervisorManager                          5.0.2295.… H\n",
      "Alias           Get-HPOVProfile                                    5.0.2295.… H\n",
      "Alias           Get-HPOVProfileAssign                              5.0.2295.… H\n",
      "Alias           Get-HPOVProfileConnectionList                      5.0.2295.… H\n",
      "Alias           Get-HPOVServerHardwareTypes                        5.0.2295.… H\n",
      "Alias           Get-HPOVSppFile                                    5.0.2295.… H\n",
      "Alias           New-HPOVAddressRange                               5.0.2295.… H\n",
      "Alias           New-HPOVEnclosure                                  5.0.2295.… H\n",
      "Alias           New-HPOVLdap                                       5.0.2295.… H\n",
      "Alias           New-HPOVProfile                                    5.0.2295.… H\n",
      "Alias           New-HPOVProfileAttachVolume                        5.0.2295.… H\n",
      "Alias           New-HPOVProfileConnection                          5.0.2295.… H\n",
      "Alias           New-HPOVSanManager                                 5.0.2295.… H\n",
      "Alias           New-HPOVServer                                     5.0.2295.… H\n",
      "Alias           New-HPOVStoragePool                                5.0.2295.… H\n",
      "Alias           New-HPOVStorageSystem                              5.0.2295.… H\n",
      "Alias           Remove-HPOVHypervisorManager                       5.0.2295.… H\n",
      "Alias           Remove-HPOVLdap                                    5.0.2295.… H\n",
      "Alias           Remove-HPOVProfile                                 5.0.2295.… H\n",
      "Alias           Set-HPOVHypervisorManager                          5.0.2295.… H\n",
      "Alias           Set-HPOVRole                                       5.0.2295.… H\n",
      "Alias           Show-HPOVBaselineRepositorySize                    5.0.2295.… H\n",
      "Alias           Wait-HPOVTaskAccepted                              5.0.2295.… H\n",
      "Function        Add-HPOVApplianceTrustedCertificate                5.0.2295.… H\n",
      "Function        Add-HPOVBaseline                                   5.0.2295.… H\n",
      "Function        Add-HPOVClusterManager                             5.0.2295.… H\n",
      "Function        Add-HPOVClusterNode                                5.0.2295.… H\n",
      "Function        Add-HPOVEnclosure                                  5.0.2295.… H\n",
      "Function        Add-HPOVFabricManager                              5.0.2295.… H\n",
      "Function        Add-HPOVLdapServer                                 5.0.2295.… H\n",
      "Function        Add-HPOVPowerDevice                                5.0.2295.… H\n",
      "Function        Add-HPOVRackManager                                5.0.2295.… H\n",
      "Function        Add-HPOVRackToDataCenter                           5.0.2295.… H\n",
      "Function        Add-HPOVRemoteFrame                                5.0.2295.… H\n",
      "Function        Add-HPOVResourceToLabel                            5.0.2295.… H\n",
      "Function        Add-HPOVResourceToRack                             5.0.2295.… H\n",
      "Function        Add-HPOVResourceToScope                            5.0.2295.… H\n",
      "Function        Add-HPOVSanManager                                 5.0.2295.… H\n",
      "Function        Add-HPOVServer                                     5.0.2295.… H\n",
      "Function        Add-HPOVSmtpAlertEmailFilter                       5.0.2295.… H\n",
      "Function        Add-HPOVStoragePool                                5.0.2295.… H\n",
      "Function        Add-HPOVStorageSystem                              5.0.2295.… H\n",
      "Function        Add-HPOVStorageVolume                              5.0.2295.… H\n",
      "Function        Clear-HPOVAlert                                    5.0.2295.… H\n",
      "Function        Connect-HPOVMgmt                                   5.0.2295.… H\n",
      "Function        Convert-HPOVServerProfile                          5.0.2295.… H\n",
      "Function        Convert-HPOVServerProfileTemplate                  5.0.2295.… H\n",
      "Function        ConvertTo-HPOVImageStreamerConfiguration           5.0.2295.… H\n",
      "Function        ConvertTo-HPOVPowerShellScript                     5.0.2295.… H\n",
      "Function        ConvertTo-HPOVServerProfileTemplate                5.0.2295.… H\n",
      "Function        ConvertTo-HPOVStorageVolume                        5.0.2295.… H\n",
      "Function        Copy-HPOVServerProfile                             5.0.2295.… H\n",
      "Function        Disable-HPOVApplianceComplexPasswords              5.0.2295.… H\n",
      "Function        Disable-HPOVApplianceDataAtRestEncryption          5.0.2295.… H\n",
      "Function        Disable-HPOVApplianceServiceConsoleAccess          5.0.2295.… H\n",
      "Function        Disable-HPOVApplianceSshAccess                     5.0.2295.… H\n",
      "Function        Disable-HPOVApplianceTwoFactorAuthentication       5.0.2295.… H\n",
      "Function        Disable-HPOVCertificateValidation                  5.0.2295.… H\n",
      "Function        Disable-HPOVDebug                                  5.0.2295.… H\n",
      "Function        Disable-HPOVDeviceUid                              5.0.2295.… H\n",
      "Function        Disable-HPOVLdapLocalLogin                         5.0.2295.… H\n",
      "Function        Disable-HPOVLogicalInterconnectPortMonitoring      5.0.2295.… H\n",
      "Function        Disable-HPOVMSDSC                                  5.0.2295.… H\n",
      "Function        Disable-HPOVRemoteSupport                          5.0.2295.… H\n",
      "Function        Disable-HPOVRemoteSyslog                           5.0.2295.… H\n",
      "Function        Disconnect-HPOVMgmt                                5.0.2295.… H\n",
      "Function        Enable-HPOVApplianceComplexPasswords               5.0.2295.… H\n",
      "Function        Enable-HPOVApplianceDataAtRestEncryption           5.0.2295.… H\n",
      "Function        Enable-HPOVApplianceServiceConsoleAccess           5.0.2295.… H\n",
      "Function        Enable-HPOVApplianceSshAccess                      5.0.2295.… H\n",
      "Function        Enable-HPOVCertificateValidation                   5.0.2295.… H\n",
      "Function        Enable-HPOVComposerHANode                          5.0.2295.… H\n",
      "Function        Enable-HPOVDebug                                   5.0.2295.… H\n",
      "Function        Enable-HPOVDeviceUid                               5.0.2295.… H\n",
      "Function        Enable-HPOVLdapLocalLogin                          5.0.2295.… H\n",
      "Function        Enable-HPOVLogicalInterconnectPortMonitoring       5.0.2295.… H\n",
      "Function        Enable-HPOVMSDSC                                   5.0.2295.… H\n",
      "Function        Enable-HPOVRemoteSupport                           5.0.2295.… H\n",
      "Function        Enable-HPOVRemoteSyslog                            5.0.2295.… H\n",
      "Function        Enter-HPOVClusterNodeMaintenanceMode               5.0.2295.… H\n",
      "Function        Exit-HPOVClusterNodeMaintenanceMode                5.0.2295.… H\n",
      "Function        Get-HPOVAddressPool                                5.0.2295.… H\n",
      "Function        Get-HPOVAddressPoolRange                           5.0.2295.… H\n",
      "Function        Get-HPOVAddressPoolSubnet                          5.0.2295.… H\n",
      "Function        Get-HPOVAlert                                      5.0.2295.… H\n",
      "Function        Get-HPOVApplianceAuditLogForwarding                5.0.2295.… H\n",
      "Function        Get-HPOVApplianceAvailableSecurityMode             5.0.2295.… H\n",
      "Function        Get-HPOVApplianceCertificateStatus                 5.0.2295.… H\n",
      "Function        Get-HPOVApplianceCurrentSecurityMode               5.0.2295.… H\n",
      "Function        Get-HPOVApplianceDataAtRestEncryption              5.0.2295.… H\n",
      "Function        Get-HPOVApplianceDateTime                          5.0.2295.… H\n",
      "Function        Get-HPOVApplianceGlobalSetting                     5.0.2295.… H\n",
      "Function        Get-HPOVApplianceNetworkConfig                     5.0.2295.… H\n",
      "Function        Get-HPOVApplianceProxy                             5.0.2295.… H\n",
      "Function        Get-HPOVApplianceSecurityProtocol                  5.0.2295.… H\n",
      "Function        Get-HPOVApplianceServiceConsoleAccess              5.0.2295.… H\n",
      "Function        Get-HPOVApplianceSnmpV3EngineId                    5.0.2295.… H\n",
      "Function        Get-HPOVApplianceSshAccess                         5.0.2295.… H\n",
      "Function        Get-HPOVApplianceTrapDestination                   5.0.2295.… H\n",
      "Function        Get-HPOVApplianceTrustedCertificate                5.0.2295.… H\n",
      "Function        Get-HPOVApplianceTwoFactorAuthentication           5.0.2295.… H\n",
      "Function        Get-HPOVAuditLog                                   5.0.2295.… H\n",
      "Function        Get-HPOVAuditLogArchive                            5.0.2295.… H\n",
      "Function        Get-HPOVAutomaticBackupConfig                      5.0.2295.… H\n",
      "Function        Get-HPOVAvailableDriveType                         5.0.2295.… H\n",
      "Function        Get-HPOVBackup                                     5.0.2295.… H\n",
      "Function        Get-HPOVBaseline                                   5.0.2295.… H\n",
      "Function        Get-HPOVBaselineRepository                         5.0.2295.… H\n",
      "Function        Get-HPOVClusterManager                             5.0.2295.… H\n",
      "Function        Get-HPOVClusterNode                                5.0.2295.… H\n",
      "Function        Get-HPOVClusterProfile                             5.0.2295.… H\n",
      "Function        Get-HPOVCommandTrace                               5.0.2295.… H\n",
      "Function        Get-HPOVComposerNode                               5.0.2295.… H\n",
      "Function        Get-HPOVDataCenter                                 5.0.2295.… H\n",
      "Function        Get-HPOVDriveEnclosure                             5.0.2295.… H\n",
      "Function        Get-HPOVDriveEnclosureInventory                    5.0.2295.… H\n",
      "Function        Get-HPOVEnclosure                                  5.0.2295.… H\n",
      "Function        Get-HPOVEnclosureGroup                             5.0.2295.… H\n",
      "Function        Get-HPOVEulaStatus                                 5.0.2295.… H\n",
      "Function        Get-HPOVFabricManager                              5.0.2295.… H\n",
      "Function        Get-HPOVFixMeInstallationLog                       5.0.2295.… H\n",
      "Function        Get-HPOVHealthStatus                               5.0.2295.… H\n",
      "Function        Get-HPOVIloSso                                     5.0.2295.… H\n",
      "Function        Get-HPOVImageStreamerAppliance                     5.0.2295.… H\n",
      "Function        Get-HPOVInterconnect                               5.0.2295.… H\n",
      "Function        Get-HPOVInterconnectType                           5.0.2295.… H\n",
      "Function        Get-HPOVLabel                                      5.0.2295.… H\n",
      "Function        Get-HPOVLdap                                       5.0.2295.… H\n",
      "Function        Get-HPOVLdapDirectory                              5.0.2295.… H\n",
      "Function        Get-HPOVLdapGroup                                  5.0.2295.… H\n",
      "Function        Get-HPOVLicense                                    5.0.2295.… H\n",
      "Function        Get-HPOVLogicalEnclosure                           5.0.2295.… H\n",
      "Function        Get-HPOVLogicalInterconnect                        5.0.2295.… H\n",
      "Function        Get-HPOVLogicalInterconnectGroup                   5.0.2295.… H\n",
      "Function        Get-HPOVLogicalInterconnectPortMonitoring          5.0.2295.… H\n",
      "Function        Get-HPOVLogicalJBOD                                5.0.2295.… H\n",
      "Function        Get-HPOVLogicalSwitch                              5.0.2295.… H\n",
      "Function        Get-HPOVLogicalSwitchGroup                         5.0.2295.… H\n",
      "Function        Get-HPOVLoginMessage                               5.0.2295.… H\n",
      "Function        Get-HPOVManagedSan                                 5.0.2295.… H\n",
      "Function        Get-HPOVNetwork                                    5.0.2295.… H\n",
      "Function        Get-HPOVNetworkSet                                 5.0.2295.… H\n",
      "Function        Get-HPOVOSDeploymentPlan                           5.0.2295.… H\n",
      "Function        Get-HPOVOSDeploymentPlanAttribute                  5.0.2295.… H\n",
      "Function        Get-HPOVOSDeploymentServer                         5.0.2295.… H\n",
      "Function        Get-HPOVPendingUpdate                              5.0.2295.… H\n",
      "Function        Get-HPOVPowerDevice                                5.0.2295.… H\n",
      "Function        Get-HPOVPowerPotentialDeviceConnection             5.0.2295.… H\n",
      "Function        Get-HPOVRack                                       5.0.2295.… H\n",
      "Function        Get-HPOVRackManager                                5.0.2295.… H\n",
      "Function        Get-HPOVRackMember                                 5.0.2295.… H\n",
      "Function        Get-HPOVRemoteSupport                              5.0.2295.… H\n",
      "Function        Get-HPOVRemoteSupportContact                       5.0.2295.… H\n",
      "Function        Get-HPOVRemoteSupportDataCollectionSchedule        5.0.2295.… H\n",
      "Function        Get-HPOVRemoteSupportDefaultSite                   5.0.2295.… H\n",
      "Function        Get-HPOVRemoteSupportEntitlementStatus             5.0.2295.… H\n",
      "Function        Get-HPOVRemoteSupportPartner                       5.0.2295.… H\n",
      "Function        Get-HPOVRemoteSupportSetting                       5.0.2295.… H\n",
      "Function        Get-HPOVRemoteSyslog                               5.0.2295.… H\n",
      "Function        Get-HPOVReservedVlanRange                          5.0.2295.… H\n",
      "Function        Get-HPOVRole                                       5.0.2295.… H\n",
      "Function        Get-HPOVSanManager                                 5.0.2295.… H\n",
      "Function        Get-HPOVSanZone                                    5.0.2295.… H\n",
      "Function        Get-HPOVSasInterconnectType                        5.0.2295.… H\n",
      "Function        Get-HPOVSasLogicalInterconnect                     5.0.2295.… H\n",
      "Function        Get-HPOVScmbCertificates                           5.0.2295.… H\n",
      "Function        Get-HPOVScope                                      5.0.2295.… H\n",
      "Function        Get-HPOVServer                                     5.0.2295.… H\n",
      "Function        Get-HPOVServerHardwareType                         5.0.2295.… H\n",
      "Function        Get-HPOVServerOneTimeBoot                          5.0.2295.… H\n",
      "Function        Get-HPOVServerProfile                              5.0.2295.… H\n",
      "Function        Get-HPOVServerProfileConnectionList                5.0.2295.… H\n",
      "Function        Get-HPOVServerProfileMessage                       5.0.2295.… H\n",
      "Function        Get-HPOVServerProfileTemplate                      5.0.2295.… H\n",
      "Function        Get-HPOVServiceAlert                               5.0.2295.… H\n",
      "Function        Get-HPOVSMTPConfig                                 5.0.2295.… H\n",
      "Function        Get-HPOVSnmpReadCommunity                          5.0.2295.… H\n",
      "Function        Get-HPOVSnmpV3User                                 5.0.2295.… H\n",
      "Function        Get-HPOVStoragePool                                5.0.2295.… H\n",
      "Function        Get-HPOVStorageSystem                              5.0.2295.… H\n",
      "Function        Get-HPOVStorageVolume                              5.0.2295.… H\n",
      "Function        Get-HPOVStorageVolumeSet                           5.0.2295.… H\n",
      "Function        Get-HPOVStorageVolumeSnapShot                      5.0.2295.… H\n",
      "Function        Get-HPOVStorageVolumeTemplate                      5.0.2295.… H\n",
      "Function        Get-HPOVStorageVolumeTemplatePolicy                5.0.2295.… H\n",
      "Function        Get-HPOVSwitch                                     5.0.2295.… H\n",
      "Function        Get-HPOVSwitchType                                 5.0.2295.… H\n",
      "Function        Get-HPOVTask                                       5.0.2295.… H\n",
      "Function        Get-HPOVUnmanagedDevice                            5.0.2295.… H\n",
      "Function        Get-HPOVUplinkSet                                  5.0.2295.… H\n",
      "Function        Get-HPOVUser                                       5.0.2295.… H\n",
      "Function        Get-HPOVVersion                                    5.0.2295.… H\n",
      "Function        Get-HPOVXApiVersion                                5.0.2295.… H\n",
      "Function        Import-HPOVSslCertificate                          5.0.2295.… H\n",
      "Function        Install-HPOVApplianceCertificate                   5.0.2295.… H\n",
      "Function        Install-HPOVLogicalInterconnectFirmware            5.0.2295.… H\n",
      "Function        Install-HPOVUpdate                                 5.0.2295.… H\n",
      "Function        Invoke-HPOVVcmMigration                            5.0.2295.… H\n",
      "Function        Invoke-HPOVWebBrowser                              5.0.2295.… H\n",
      "Function        Join-HPOVServerProfileToTemplate                   5.0.2295.… H\n",
      "Function        New-HPOVAddressPoolRange                           5.0.2295.… H\n",
      "Function        New-HPOVAddressPoolSubnet                          5.0.2295.… H\n",
      "Function        New-HPOVApplianceCsr                               5.0.2295.… H\n",
      "Function        New-HPOVApplianceDataAtRestEncryptionKey           5.0.2295.… H\n",
      "Function        New-HPOVApplianceSelfSignedCertificate             5.0.2295.… H\n",
      "Function        New-HPOVApplianceTrapDestination                   5.0.2295.… H\n",
      "Function        New-HPOVBackup                                     5.0.2295.… H\n",
      "Function        New-HPOVClusterProfile                             5.0.2295.… H\n",
      "Function        New-HPOVClusterProfileMember                       5.0.2295.… H\n",
      "Function        New-HPOVCustomBaseline                             5.0.2295.… H\n",
      "Function        New-HPOVDataCenter                                 5.0.2295.… H\n",
      "Function        New-HPOVEnclosureGroup                             5.0.2295.… H\n",
      "Function        New-HPOVExternalRepository                         5.0.2295.… H\n",
      "Function        New-HPOVLdapDirectory                              5.0.2295.… H\n",
      "Function        New-HPOVLdapGroup                                  5.0.2295.… H\n",
      "Function        New-HPOVLdapServer                                 5.0.2295.… H\n",
      "Function        New-HPOVLicense                                    5.0.2295.… H\n",
      "Function        New-HPOVLogicalEnclosure                           5.0.2295.… H\n",
      "Function        New-HPOVLogicalInterconnectGroup                   5.0.2295.… H\n",
      "Function        New-HPOVLogicalJBOD                                5.0.2295.… H\n",
      "Function        New-HPOVLogicalSwitch                              5.0.2295.… H\n",
      "Function        New-HPOVLogicalSwitchGroup                         5.0.2295.… H\n",
      "Function        New-HPOVNetwork                                    5.0.2295.… H\n",
      "Function        New-HPOVNetworkSet                                 5.0.2295.… H\n",
      "Function        New-HPOVOSDeploymentServer                         5.0.2295.… H\n",
      "Function        New-HPOVQosConfig                                  5.0.2295.… H\n",
      "Function        New-HPOVQosTrafficClass                            5.0.2295.… H\n",
      "Function        New-HPOVRack                                       5.0.2295.… H\n",
      "Function        New-HPOVRemoteSupportContact                       5.0.2295.… H\n",
      "Function        New-HPOVRemoteSupportPartner                       5.0.2295.… H\n",
      "Function        New-HPOVResource                                   5.0.2295.… H\n",
      "Function        New-HPOVRestore                                    5.0.2295.… H\n",
      "Function        New-HPOVScope                                      5.0.2295.… H\n",
      "Function        New-HPOVServerProfile                              5.0.2295.… H\n",
      "Function        New-HPOVServerProfileAssign                        5.0.2295.… H\n",
      "Function        New-HPOVServerProfileAttachVolume                  5.0.2295.… H\n",
      "Function        New-HPOVServerProfileConnection                    5.0.2295.… H\n",
      "Function        New-HPOVServerProfileLogicalDisk                   5.0.2295.… H\n",
      "Function        New-HPOVServerProfileLogicalDiskController         5.0.2295.… H\n",
      "Function        New-HPOVServerProfileTemplate                      5.0.2295.… H\n",
      "Function        New-HPOVSnmpConfiguration                          5.0.2295.… H\n",
      "Function        New-HPOVSnmpTrapDestination                        5.0.2295.… H\n",
      "Function        New-HPOVSnmpV3User                                 5.0.2295.… H\n",
      "Function        New-HPOVStorageVolume                              5.0.2295.… H\n",
      "Function        New-HPOVStorageVolumeSnapshot                      5.0.2295.… H\n",
      "Function        New-HPOVStorageVolumeTemplate                      5.0.2295.… H\n",
      "Function        New-HPOVSupportDump                                5.0.2295.… H\n",
      "Function        New-HPOVUnmanagedDevice                            5.0.2295.… H\n",
      "Function        New-HPOVUplinkSet                                  5.0.2295.… H\n",
      "Function        New-HPOVUser                                       5.0.2295.… H\n",
      "Function        Ping-HPOVAddress                                   5.0.2295.… H\n",
      "Function        Pop-HPOVAppliancePermission                        5.0.2295.… H\n",
      "Function        Push-HPOVAppliancePermission                       5.0.2295.… H\n",
      "Function        Remove-HPOVAddressPoolRange                        5.0.2295.… H\n",
      "Function        Remove-HPOVAddressPoolSubnet                       5.0.2295.… H\n",
      "Function        Remove-HPOVAlert                                   5.0.2295.… H\n",
      "Function        Remove-HPOVApplianceProxy                          5.0.2295.… H\n",
      "Function        Remove-HPOVApplianceTrapDestination                5.0.2295.… H\n",
      "Function        Remove-HPOVApplianceTrustedCertificate             5.0.2295.… H\n",
      "Function        Remove-HPOVBaseline                                5.0.2295.… H\n",
      "Function        Remove-HPOVClusterManager                          5.0.2295.… H\n",
      "Function        Remove-HPOVClusterProfile                          5.0.2295.… H\n",
      "Function        Remove-HPOVDataCenter                              5.0.2295.… H\n",
      "Function        Remove-HPOVEnclosure                               5.0.2295.… H\n",
      "Function        Remove-HPOVEnclosureGroup                          5.0.2295.… H\n",
      "Function        Remove-HPOVExternalRepository                      5.0.2295.… H\n",
      "Function        Remove-HPOVFabricManager                           5.0.2295.… H\n",
      "Function        Remove-HPOVLdapDirectory                           5.0.2295.… H\n",
      "Function        Remove-HPOVLdapGroup                               5.0.2295.… H\n",
      "Function        Remove-HPOVLdapServer                              5.0.2295.… H\n",
      "Function        Remove-HPOVLicense                                 5.0.2295.… H\n",
      "Function        Remove-HPOVLogicalEnclosure                        5.0.2295.… H\n",
      "Function        Remove-HPOVLogicalInterconnectGroup                5.0.2295.… H\n",
      "Function        Remove-HPOVLogicalJBOD                             5.0.2295.… H\n",
      "Function        Remove-HPOVLogicalSwitch                           5.0.2295.… H\n",
      "Function        Remove-HPOVLogicalSwitchGroup                      5.0.2295.… H\n",
      "Function        Remove-HPOVNetwork                                 5.0.2295.… H\n",
      "Function        Remove-HPOVNetworkSet                              5.0.2295.… H\n",
      "Function        Remove-HPOVOSDeploymentServer                      5.0.2295.… H\n",
      "Function        Remove-HPOVPendingUpdate                           5.0.2295.… H\n",
      "Function        Remove-HPOVPowerDevice                             5.0.2295.… H\n",
      "Function        Remove-HPOVRack                                    5.0.2295.… H\n",
      "Function        Remove-HPOVRackManager                             5.0.2295.… H\n",
      "Function        Remove-HPOVRackMember                              5.0.2295.… H\n",
      "Function        Remove-HPOVRemoteSupportContact                    5.0.2295.… H\n",
      "Function        Remove-HPOVRemoteSupportPartner                    5.0.2295.… H\n",
      "Function        Remove-HPOVResource                                5.0.2295.… H\n",
      "Function        Remove-HPOVResourceFromLabel                       5.0.2295.… H\n",
      "Function        Remove-HPOVResourceFromScope                       5.0.2295.… H\n",
      "Function        Remove-HPOVSanManager                              5.0.2295.… H\n",
      "Function        Remove-HPOVScmbCertificate                         5.0.2295.… H\n",
      "Function        Remove-HPOVScope                                   5.0.2295.… H\n",
      "Function        Remove-HPOVServer                                  5.0.2295.… H\n",
      "Function        Remove-HPOVServerProfile                           5.0.2295.… H\n",
      "Function        Remove-HPOVServerProfileTemplate                   5.0.2295.… H\n",
      "Function        Remove-HPOVSnmpV3User                              5.0.2295.… H\n",
      "Function        Remove-HPOVStandbyComposerNode                     5.0.2295.… H\n",
      "Function        Remove-HPOVStoragePool                             5.0.2295.… H\n",
      "Function        Remove-HPOVStorageSystem                           5.0.2295.… H\n",
      "Function        Remove-HPOVStorageVolume                           5.0.2295.… H\n",
      "Function        Remove-HPOVStorageVolumeSnapshot                   5.0.2295.… H\n",
      "Function        Remove-HPOVStorageVolumeTemplate                   5.0.2295.… H\n",
      "Function        Remove-HPOVUnmanagedDevice                         5.0.2295.… H\n",
      "Function        Remove-HPOVUser                                    5.0.2295.… H\n",
      "Function        Reset-HPOVEnclosureDevice                          5.0.2295.… H\n",
      "Function        Reset-HPOVInterconnectNetOpPassword                5.0.2295.… H\n",
      "Function        Restart-HPOVAppliance                              5.0.2295.… H\n",
      "Function        Restart-HPOVServer                                 5.0.2295.… H\n",
      "Function        Restore-HPOVCustomBaseline                         5.0.2295.… H\n",
      "Function        Save-HPOVApplianceDataAtRestEncryptionKey          5.0.2295.… H\n",
      "Function        Save-HPOVBackup                                    5.0.2295.… H\n",
      "Function        Save-HPOVServerProfile                             5.0.2295.… H\n",
      "Function        Save-HPOVServerProfileTemplate                     5.0.2295.… H\n",
      "Function        Search-HPOVAssociations                            5.0.2295.… H\n",
      "Function        Search-HPOVIndex                                   5.0.2295.… H\n",
      "Function        Send-HPOVRequest                                   5.0.2295.… H\n",
      "Function        Set-HPOVAddressPoolSubnet                          5.0.2295.… H\n",
      "Function        Set-HPOVAlert                                      5.0.2295.… H\n",
      "Function        Set-HPOVApplianceAuditLogForwarding                5.0.2295.… H\n",
      "Function        Set-HPOVApplianceCurrentSecurityMode               5.0.2295.… H\n",
      "Function        Set-HPOVApplianceDateTime                          5.0.2295.… H\n",
      "Function        Set-HPOVApplianceDefaultConnection                 5.0.2295.… H\n",
      "Function        Set-HPOVApplianceGlobalSetting                     5.0.2295.… H\n",
      "Function        Set-HPOVApplianceNetworkConfig                     5.0.2295.… H\n",
      "Function        Set-HPOVApplianceProxy                             5.0.2295.… H\n",
      "Function        Set-HPOVApplianceSecurityProtocol                  5.0.2295.… H\n",
      "Function        Set-HPOVApplianceSnmpV3EngineId                    5.0.2295.… H\n",
      "Function        Set-HPOVApplianceTwoFactorAuthentication           5.0.2295.… H\n",
      "Function        Set-HPOVAutomaticBackupConfig                      5.0.2295.… H\n",
      "Function        Set-HPOVClusterManager                             5.0.2295.… H\n",
      "Function        Set-HPOVDataCenter                                 5.0.2295.… H\n",
      "Function        Set-HPOVDataCenterRemoteSupport                    5.0.2295.… H\n",
      "Function        Set-HPOVEnclosure                                  5.0.2295.… H\n",
      "Function        Set-HPOVEnclosureActiveFLM                         5.0.2295.… H\n",
      "Function        Set-HPOVEnclosureGroup                             5.0.2295.… H\n",
      "Function        Set-HPOVEulaStatus                                 5.0.2295.… H\n",
      "Function        Set-HPOVExternalRepository                         5.0.2295.… H\n",
      "Function        Set-HPOVInitialPassword                            5.0.2295.… H\n",
      "Function        Set-HPOVLdapDefaultDirectory                       5.0.2295.… H\n",
      "Function        Set-HPOVLdapGroupRole                              5.0.2295.… H\n",
      "Function        Set-HPOVLogicalEnclosure                           5.0.2295.… H\n",
      "Function        Set-HPOVLogicalJBOD                                5.0.2295.… H\n",
      "Function        Set-HPOVLoginMessage                               5.0.2295.… H\n",
      "Function        Set-HPOVManagedSan                                 5.0.2295.… H\n",
      "Function        Set-HPOVNetwork                                    5.0.2295.… H\n",
      "Function        Set-HPOVNetworkSet                                 5.0.2295.… H\n",
      "Function        Set-HPOVRackMemberLocation                         5.0.2295.… H\n",
      "Function        Set-HPOVRemoteSupport                              5.0.2295.… H\n",
      "Function        Set-HPOVRemoteSupportDataCollectionSchedule        5.0.2295.… H\n",
      "Function        Set-HPOVRemoteSupportDefaultSite                   5.0.2295.… H\n",
      "Function        Set-HPOVRemoteSupportPrimaryContact                5.0.2295.… H\n",
      "Function        Set-HPOVRemoteSupportSecondaryContact              5.0.2295.… H\n",
      "Function        Set-HPOVRemoteSupportSetting                       5.0.2295.… H\n",
      "Function        Set-HPOVRemoteSyslog                               5.0.2295.… H\n",
      "Function        Set-HPOVReservedVlanRange                          5.0.2295.… H\n",
      "Function        Set-HPOVResource                                   5.0.2295.… H\n",
      "Function        Set-HPOVSanManager                                 5.0.2295.… H\n",
      "Function        Set-HPOVServerHardwareType                         5.0.2295.… H\n",
      "Function        Set-HPOVServerOneTimeBoot                          5.0.2295.… H\n",
      "Function        Set-HPOVServerPower                                5.0.2295.… H\n",
      "Function        Set-HPOVServerProfile                              5.0.2295.… H\n",
      "Function        Set-HPOVServerProfileTemplate                      5.0.2295.… H\n",
      "Function        Set-HPOVSmtpConfig                                 5.0.2295.… H\n",
      "Function        Set-HPOVSnmpReadCommunity                          5.0.2295.… H\n",
      "Function        Set-HPOVStoragePool                                5.0.2295.… H\n",
      "Function        Set-HPOVStorageVolume                              5.0.2295.… H\n",
      "Function        Set-HPOVStorageVolumeTemplate                      5.0.2295.… H\n",
      "Function        Set-HPOVStorageVolumeTemplatePolicy                5.0.2295.… H\n",
      "Function        Set-HPOVUplinkSet                                  5.0.2295.… H\n",
      "Function        Set-HPOVUser                                       5.0.2295.… H\n",
      "Function        Set-HPOVUserPassword                               5.0.2295.… H\n",
      "Function        Set-HPOVUserRole                                   5.0.2295.… H\n",
      "Function        Show-HPOVActiveUser                                5.0.2295.… H\n",
      "Function        Show-HPOVApplianceSecurityModeCompatibilityReport  5.0.2295.… H\n",
      "Function        Show-HPOVFirmwareReport                            5.0.2295.… H\n",
      "Function        Show-HPOVHypervisorCluster                         5.0.2295.… H\n",
      "Function        Show-HPOVLdapGroups                                5.0.2295.… H\n",
      "Function        Show-HPOVLogicalInterconnectMacTable               5.0.2295.… H\n",
      "Function        Show-HPOVPortStatistics                            5.0.2295.… H\n",
      "Function        Show-HPOVSanEndpoint                               5.0.2295.… H\n",
      "Function        Show-HPOVStorageSystemPerformancePolicy            5.0.2295.… H\n",
      "Function        Show-HPOVUserSession                               5.0.2295.… H\n",
      "Function        Start-HPOVLibraryTrace                             5.0.2295.… H\n",
      "Function        Start-HPOVRemoteSupportCollection                  5.0.2295.… H\n",
      "Function        Start-HPOVServer                                   5.0.2295.… H\n",
      "Function        Stop-HPOVAppliance                                 5.0.2295.… H\n",
      "Function        Stop-HPOVLibraryTrace                              5.0.2295.… H\n",
      "Function        Stop-HPOVServer                                    5.0.2295.… H\n",
      "Function        Test-HPOVApplianceAuditLogForwarding               5.0.2295.… H\n",
      "Function        Test-HPOVEmailAlert                                5.0.2295.… H\n",
      "Function        Update-HPOVApplianceTrustedAuthorityCrl            5.0.2295.… H\n",
      "Function        Update-HPOVClusterNode                             5.0.2295.… H\n",
      "Function        Update-HPOVClusterProfile                          5.0.2295.… H\n",
      "Function        Update-HPOVEnclosure                               5.0.2295.… H\n",
      "Function        Update-HPOVExternalRepository                      5.0.2295.… H\n",
      "Function        Update-HPOVLogicalEnclosure                        5.0.2295.… H\n",
      "Function        Update-HPOVLogicalEnclosureFirmware                5.0.2295.… H\n",
      "Function        Update-HPOVLogicalInterconnect                     5.0.2295.… H\n",
      "Function        Update-HPOVLogicalSwitch                           5.0.2295.… H\n",
      "Function        Update-HPOVRackManager                             5.0.2295.… H\n",
      "Function        Update-HPOVRemoteSupportEntitlement                5.0.2295.… H\n",
      "Function        Update-HPOVSanManager                              5.0.2295.… H\n",
      "Function        Update-HPOVServer                                  5.0.2295.… H\n",
      "Function        Update-HPOVServerHardwareLicenseIntent             5.0.2295.… H\n",
      "Function        Update-HPOVServerProfile                           5.0.2295.… H\n",
      "Function        Update-HPOVStoragePool                             5.0.2295.… H\n",
      "Function        Update-HPOVStorageSystem                           5.0.2295.… H\n",
      "Function        Wait-HPOVApplianceStart                            5.0.2295.… H\n",
      "Function        Wait-HPOVTaskComplete                              5.0.2295.… H\n",
      "Function        Wait-HPOVTaskStart                                 5.0.2295.… H\n",
      "\n"
     ]
    }
   ],
   "source": [
    "Get-Command -Module HPOneView.500"
   ]
  },
  {
   "cell_type": "markdown",
   "metadata": {},
   "source": [
    "### show existing networks\n",
    "\n",
    "<img src=\"Pictures/show_network.gif\" height=\"500\" width=\"500\" align=\"left\">\n",
    "<br>"
   ]
  },
  {
   "cell_type": "code",
   "execution_count": 5,
   "metadata": {},
   "outputs": [
    {
     "name": "stdout",
     "output_type": "stream",
     "text": [
      "\n",
      "\n",
      "    Type: Ethernet\n",
      "\n",
      "Name                               Status Purpose    Type     VlanID IPv4Subnet\n",
      "----                               ------ -------    ----     ------ ----------\n",
      "0033_Cloud                         OK     General    Tagged   33     None      \n",
      "acs Test VLAN (Multicast, MLAG)    OK     General    Tagged   1111   None      \n",
      "acs Test VLAN2                     OK     General    Tagged   1112   None      \n",
      "CTC NSX 01 0802                    OK     General    Tagged   802    None      \n",
      "CTC NSX 02 0803                    OK     General    Tagged   803    None      \n",
      "CTC NSX 03 0804                    OK     General    Tagged   804    None      \n",
      "CTC NSX 04 0805                    OK     General    Tagged   805    None      \n",
      "CTC VCF 0061                       OK     General    Tagged   61     None      \n",
      "CTC VCF 0062                       OK     General    Tagged   62     None      \n",
      "CTC VCF 0063                       OK     General    Tagged   63     None      \n",
      "CTC VCF 0064                       OK     General    Tagged   64     None      \n",
      "CTC VCF 0065                       OK     General    Tagged   65     None      \n",
      "CTC VCF 0066                       OK     General    Tagged   66     None      \n",
      "CTC VCF 0067                       OK     General    Tagged   67     None      \n",
      "CTC VCF 0068                       OK     General    Tagged   68     None      \n",
      "CTC VCF 0069                       OK     General    Tagged   69     None      \n",
      "CTC VCF Management 0070            OK     General    Tagged   70     None      \n",
      "CTC VCF vSAN 0801                  OK     General    Tagged   801    None      \n",
      "CTC-Demo 030                       OK     General    Tagged   30     None      \n",
      "DevOps BackEnd 0048                OK     General    Tagged   48     None      \n",
      "DevOps FrontEnd 0047               OK     General    Tagged   47     None      \n",
      "Hypervisor Tunnel                  OK     General    Tunnel   0      None      \n",
      "Image Streamer 0019                OK     ISCSI      Tagged   19     10.0.19.0 \n",
      "Management 0020                    OK     Management Tagged   20     10.0.20.0 \n",
      "Production 0100                    OK     General    Tagged   100    None      \n",
      "Production 0101                    OK     General    Tagged   101    None      \n",
      "Production 0102                    OK     General    Tagged   102    None      \n",
      "Production 0103                    OK     General    Tagged   103    None      \n",
      "Production 0104                    OK     General    Tagged   104    None      \n",
      "Production 0105                    OK     General    Tagged   105    None      \n",
      "Production 0106                    OK     General    Tagged   106    None      \n",
      "Production 0107                    OK     General    Tagged   107    None      \n",
      "Production 0108                    OK     General    Tagged   108    None      \n",
      "Production 0109                    OK     General    Tagged   109    None      \n",
      "Roundtable - Test Ethernet Network OK     General    Tagged   200    None      \n",
      "SDS                                OK     General    Tagged   21     None      \n",
      "Storage iSCSI 0042                 OK     General    Tagged   42     None      \n",
      "Storage Management 0040            OK     General    Tagged   40     None      \n",
      "Storage Replication 0041           OK     General    Tagged   41     None      \n",
      "Stratoscal Control 0053            OK     General    Tagged   53     None      \n",
      "Stratoscale Access 0051            OK     General    Tagged   51     None      \n",
      "Stratoscale Data 0052              OK     General    Tagged   52     None      \n",
      "Stratoscale Edge 0055              OK     General    Tagged   55     None      \n",
      "Stratoscale Guest 0054             OK     General    Tagged   54     None      \n",
      "Stratoscale_1 0056                 OK     General    Tagged   56     None      \n",
      "Stratoscale_2 0057                 OK     General    Tagged   57     None      \n",
      "Stratoscale_3 0058                 OK     General    Tagged   58     None      \n",
      "Stratoscale_4 0059                 OK     General    Tagged   59     None      \n",
      "UNTAGGEDNW                         OK     General    Untagged 0      None      \n",
      "VDI                                OK     General    Tagged   73     None      \n",
      "vMotion 0800                       OK     General    Tagged   800    None      \n",
      "\n",
      "type                    : fc-networkV4\n",
      "uri                     : /rest/fc-networks/10f72439-00f4-45b2-81b5-ac917f80f7f\n",
      "                          a\n",
      "category                : fc-networks\n",
      "eTag                    : 18dd6cb3-0b82-4990-9d32-5e6d1c9782ca\n",
      "created                 : 11/20/19 1:51:02 PM\n",
      "modified                : 11/20/19 1:51:02 PM\n",
      "scopesUri               : /rest/scopes/resources/rest/fc-networks/10f72439-00f4\n",
      "                          -45b2-81b5-ac917f80f7fa\n",
      "autoLoginRedistribution : False\n",
      "linkStabilityTime       : 0\n",
      "connectionTemplateUri   : /rest/connection-templates/ea314040-8950-4e84-9fa6-b4\n",
      "                          3d7ad390d3\n",
      "fabricType              : FabricAttach\n",
      "managedSanUri           : /rest/fc-sans/managed-sans/ea4cb102-fb88-4c82-9e92-ab\n",
      "                          0a00bbb684\n",
      "description             : \n",
      "state                   : Active\n",
      "status                  : OK\n",
      "name                    : FCoE Fabric A\n",
      "ApplianceConnection     : 10.0.20.50\n",
      "defaultMaximumBandwidth : 8000\n",
      "defaultTypicalBandwidth : 8000\n",
      "\n",
      "\n",
      "type                    : fc-networkV4\n",
      "uri                     : /rest/fc-networks/6da9c8be-081f-440b-b60a-c00bad89954\n",
      "                          3\n",
      "category                : fc-networks\n",
      "eTag                    : bbae97d3-5b3f-480a-a825-6ae0838b8de3\n",
      "created                 : 11/20/19 1:51:41 PM\n",
      "modified                : 11/20/19 1:51:41 PM\n",
      "scopesUri               : /rest/scopes/resources/rest/fc-networks/6da9c8be-081f\n",
      "                          -440b-b60a-c00bad899543\n",
      "autoLoginRedistribution : False\n",
      "linkStabilityTime       : 0\n",
      "connectionTemplateUri   : /rest/connection-templates/f73166c6-655f-4623-8da1-a2\n",
      "                          670b702e43\n",
      "fabricType              : FabricAttach\n",
      "managedSanUri           : /rest/fc-sans/managed-sans/dda539e2-677c-4f50-8966-ab\n",
      "                          0a00bdbbb4\n",
      "description             : \n",
      "state                   : Active\n",
      "status                  : OK\n",
      "name                    : FCoE Fabric B\n",
      "ApplianceConnection     : 10.0.20.50\n",
      "defaultMaximumBandwidth : 8000\n",
      "defaultTypicalBandwidth : 8000\n",
      "\n",
      "\n"
     ]
    }
   ],
   "source": [
    "Get-HPOVNetwork"
   ]
  },
  {
   "cell_type": "markdown",
   "metadata": {},
   "source": [
    "### create network\n",
    "\n",
    "<img src=\"Pictures/create_network.gif\" height=\"500\" width=\"500\" align=\"left\">"
   ]
  },
  {
   "cell_type": "code",
   "execution_count": 7,
   "metadata": {},
   "outputs": [
    {
     "name": "stdout",
     "output_type": "stream",
     "text": [
      "\n",
      "Name                               Status    Details\n",
      "----                               ------    -------                           \n",
      "Roundtable - Test Ethernet Network Completed @{type=TaskResourceV3; uri=/rest/…\n",
      "\n"
     ]
    }
   ],
   "source": [
    "New-HPOVNetwork -Name \"Roundtable - Test Ethernet Network\" -VlanId 200 -Type Ethernet -VLANType Tagged -Purpose General -SmartLink $False -PrivateNetwork $False  "
   ]
  },
  {
   "cell_type": "markdown",
   "metadata": {},
   "source": [
    "### create bulk network\n",
    "How to setup multiple networks at once."
   ]
  },
  {
   "cell_type": "code",
   "execution_count": 8,
   "metadata": {},
   "outputs": [
    {
     "name": "stdout",
     "output_type": "stream",
     "text": [
      "\n",
      "Name   Status    Details\n",
      "----   ------    -------                                                       \n",
      "Bulk_1 Completed @{type=TaskResourceV3; uri=/rest/tasks/0828d1bf-a163-45fc-94f…\n",
      "Bulk_2 Completed @{type=TaskResourceV3; uri=/rest/tasks/6fc78a16-6370-4180-b62…\n",
      "Bulk_3 Completed @{type=TaskResourceV3; uri=/rest/tasks/b2c4994a-b3b9-4a4f-9f7…\n",
      "Bulk_4 Completed @{type=TaskResourceV3; uri=/rest/tasks/ee1ba2b2-8ebf-4e56-949…\n",
      "Bulk_5 Completed @{type=TaskResourceV3; uri=/rest/tasks/ceedf603-dbf9-431f-ae2…\n",
      "Bulk_7 Completed @{type=TaskResourceV3; uri=/rest/tasks/c33a064b-46d6-4a21-a89…\n",
      "Bulk_… Completed @{type=TaskResourceV3; uri=/rest/tasks/99282928-af2d-42b4-aa5…\n",
      "\n"
     ]
    }
   ],
   "source": [
    "$net = @(1,2,3,4,5,7,200)  \n",
    "foreach ($i in $net) { New-HPOVNetwork -Name \"Bulk_$i\" -VlanId $i -Type Ethernet -VLANType Tagged } "
   ]
  },
  {
   "cell_type": "markdown",
   "metadata": {},
   "source": [
    "### delete bulk network\n",
    "as it´s not needed for the demo"
   ]
  },
  {
   "cell_type": "code",
   "execution_count": 9,
   "metadata": {},
   "outputs": [
    {
     "name": "stdout",
     "output_type": "stream",
     "text": [
      "\n",
      "Appliance  Name   Owner  Created            Duration TaskState PercentComplete\n",
      "---------  ----   -----  -------            -------- --------- ---------------\n",
      "10.0.20.50 Delete python 2/25/20 8:19:24 AM 00:00:00 Running   0\n",
      "10.0.20.50 Delete python 2/25/20 8:19:24 AM 00:00:00 Running   0\n",
      "10.0.20.50 Delete python 2/25/20 8:19:25 AM 00:00:00 Running   0\n",
      "10.0.20.50 Delete python 2/25/20 8:19:25 AM 00:00:00 Running   0\n",
      "10.0.20.50 Delete python 2/25/20 8:19:26 AM 00:00:00 Running   0\n",
      "10.0.20.50 Delete python 2/25/20 8:19:27 AM 00:00:00 Running   0\n",
      "10.0.20.50 Delete python 2/25/20 8:19:27 AM 00:00:00 Running   0\n",
      "\n"
     ]
    }
   ],
   "source": [
    "Get-HPOVNetwork -name \"bulk*\" | Remove-HPOVNetwork -Confirm:$false"
   ]
  },
  {
   "cell_type": "markdown",
   "metadata": {},
   "source": [
    "### show configured/existing storage (systems and pools)\n",
    "\n",
    "<img src=\"Pictures/show_storage.gif\" height=\"500\" width=\"500\" align=\"left\">"
   ]
  },
  {
   "cell_type": "code",
   "execution_count": 10,
   "metadata": {},
   "outputs": [
    {
     "name": "stdout",
     "output_type": "stream",
     "text": [
      "\n",
      "Name         Family    State   Status  SerialNumber Model         ManagedDomain\n",
      "----         ------    -----   ------  ------------ -----         -------------\n",
      "3PAR8200     StoreServ Managed OK      CZ38277F39   HPE_3PAR 8200 NO DOMAIN    \n",
      "nimbleaf-grp Nimble    Managed Warning                                         \n",
      "primera630   Primera   Managed OK      CZ29420H95   HPE_3PAR A630 NO DOMAIN    \n",
      "Primera650   Primera   Managed OK      CZ294112CB   HPE_3PAR A650 NO DOMAIN    \n",
      "\n"
     ]
    }
   ],
   "source": [
    "Get-HPOVStorageSystem\n"
   ]
  },
  {
   "cell_type": "code",
   "execution_count": 11,
   "metadata": {},
   "outputs": [
    {
     "name": "stdout",
     "output_type": "stream",
     "text": [
      "\n",
      "Name     Uri\n",
      "----     ---\n",
      "default  /rest/storage-pools/DC6BE02A-8EDF-48D5-AF1A-AB0A00D26E0C\n",
      "FC_r1    /rest/storage-pools/71CB6550-0DE8-4280-B90B-AB0A00D2155C\n",
      "FC_r5    /rest/storage-pools/A4D2453E-0D0E-4D6B-9BC9-AB0A00D21568\n",
      "FC_r6    /rest/storage-pools/EA639793-DA28-450B-880E-AB0A00D2156A\n",
      "FC_test  /rest/storage-pools/7E868CC6-AA59-4A3B-B71C-AB5F00D56D9F\n",
      "FC_test2 /rest/storage-pools/858114C5-942E-4DF7-B0F5-AB5F00D56DA2\n",
      "fs_cpg   /rest/storage-pools/341CBFA5-6CE7-4795-BA15-AB0A00D2156B\n",
      "SSD_r6   /rest/storage-pools/4C1DCC79-F51B-40F4-8F11-AB5D008F2CF4\n",
      "SSD_r6   /rest/storage-pools/08E4A609-988E-4C88-BF26-AB5D008EDEC0\n",
      "SSD_r6_6 /rest/storage-pools/812CA468-2F17-4EB8-9B3A-AB5D008F2CF2\n",
      "\n"
     ]
    }
   ],
   "source": [
    "Get-HPOVStoragePool  | select Name, URI "
   ]
  },
  {
   "cell_type": "markdown",
   "metadata": {},
   "source": [
    "### show volume templates"
   ]
  },
  {
   "cell_type": "code",
   "execution_count": 12,
   "metadata": {},
   "outputs": [
    {
     "name": "stdout",
     "output_type": "stream",
     "text": [
      "\n",
      "Name           Capacity ProvisionedType Sharing StorageSystem StoragePool Snaps\n",
      "                                                                          hotPo\n",
      "                                                                          ol\n",
      "----           -------- --------------- ------- ------------- ----------- -----\n",
      "TEST-Terraform 1.00 GB                  Private primera630    SSD_r6      SSD_r\n",
      "                                                                          6\n",
      "VDI-ESXi-Boot  40.00 GB Thin            Private 3PAR8200      FC_r6       FC_r6\n",
      "\n"
     ]
    }
   ],
   "source": [
    "Get-HPOVStorageVolumeTemplate"
   ]
  },
  {
   "cell_type": "markdown",
   "metadata": {},
   "source": [
    "### create volume template\n",
    "\n",
    "<img src=\"Pictures/create_volume_template.gif\" height=\"500\" width=\"500\" align=\"left\">"
   ]
  },
  {
   "cell_type": "code",
   "execution_count": 13,
   "metadata": {},
   "outputs": [
    {
     "name": "stdout",
     "output_type": "stream",
     "text": [
      "\n",
      "Name                        Capacity     ProvisionedType Sharing StorageSystem\n",
      "----                        --------     --------------- ------- -------------\n",
      "Roundtable Volume Template2 10,240.00 GB                 Private primera630\n",
      "\n"
     ]
    }
   ],
   "source": [
    "$StorPool=Get-HPOVStoragePool -Name \"SSD_r6\" -StorageSystem primera630 \n",
    "New-HPOVStorageVolumeTemplate -Name \"Roundtable Volume Template2\" -StoragePool $StorPool -Capacity 10240 "
   ]
  },
  {
   "cell_type": "markdown",
   "metadata": {},
   "source": [
    "### show Enclosure / Server Hardware / Bay\n",
    "<img src=\"Pictures/show_server_hw.gif\" height=\"500\" width=\"500\" align=\"left\">"
   ]
  },
  {
   "cell_type": "code",
   "execution_count": 14,
   "metadata": {},
   "outputs": [
    {
     "name": "stdout",
     "output_type": "stream",
     "text": [
      "\n",
      "Name                      LogicalInterconnectGroup              UsedBy\n",
      "----                      ------------------------              ------\n",
      "3 Frame VC-ETH SAS-Switch 3 Frame VC SE 40Gb F8,12GB SAS Switch 3 Frame Mixed …\n",
      "1 Frame VC-ETH SAS-Switch 1 Frame VC SE 40Gb F8,12GB SAS Switch 1 Frame Hyperv…\n",
      "\n"
     ]
    }
   ],
   "source": [
    "Get-HPOVEnclosureGroup "
   ]
  },
  {
   "cell_type": "code",
   "execution_count": 15,
   "metadata": {},
   "outputs": [
    {
     "name": "stdout",
     "output_type": "stream",
     "text": [
      "\n",
      "Name                         Model                             Form Factor\n",
      "----                         -----                             -----------     \n",
      "SY 480 Gen10 w/ PCIe Exp 1   Synergy 480 Gen10 w/ PCIe Exp Mod HalfHeightDouble\n",
      "                                                               Wide\n",
      "SY480G10 M1:416SA M3:4820CNA Synergy 480 Gen10                 HalfHeight\n",
      "SY480G10 M1:P6 M3:4820CNA    Synergy 480 Gen10                 HalfHeight\n",
      "SY480G10 M3:4820CNA          Synergy 480 Gen10                 HalfHeight\n",
      "\n"
     ]
    }
   ],
   "source": [
    "Get-HPOVServerHardwareType"
   ]
  },
  {
   "cell_type": "code",
   "execution_count": 16,
   "metadata": {},
   "outputs": [
    {
     "name": "stdout",
     "output_type": "stream",
     "text": [
      "\n",
      "name                uri\n",
      "----                ---\n",
      "CTC H5 HE01, bay 1  /rest/server-hardware/39313738-3134-5A43-4A39-33393036314C\n",
      "CTC H5 HE01, bay 11 /rest/server-hardware/39313738-3034-5A43-4A39-343430365958\n",
      "CTC H5 HE01, bay 2  /rest/server-hardware/39313738-3134-5A43-4A39-33393036314D\n",
      "CTC H5 HE01, bay 3  /rest/server-hardware/39313738-3134-5A43-4A39-333930363152\n",
      "CTC H5 HE01, bay 4  /rest/server-hardware/39313738-3034-5A43-4A39-34343036594B\n",
      "CTC H5 HE01, bay 5  /rest/server-hardware/39313738-3034-5A43-4A39-333830323658\n",
      "CTC H5 HE01, bay 6  /rest/server-hardware/39313738-3034-5A43-4A39-343430365957\n",
      "CTC H5 HE01, bay 7  /rest/server-hardware/39313738-3134-5A43-4A39-33393036314E\n",
      "CTC H5 HE01, bay 8  /rest/server-hardware/39313738-3134-5A43-4A39-333930363150\n",
      "CTC H5 HE01, bay 9  /rest/server-hardware/39313738-3134-5A43-4A39-333930363151\n",
      "CTC H5 HE11, bay 1  /rest/server-hardware/39313738-3034-5A43-4A39-333930363158\n",
      "CTC H5 HE11, bay 10 /rest/server-hardware/39313738-3034-5A43-4A39-34343036594D\n",
      "CTC H5 HE11, bay 2  /rest/server-hardware/39313738-3034-5A43-4A39-333930363157\n",
      "CTC H5 HE11, bay 3  /rest/server-hardware/39313738-3034-5A43-4A39-333930363233\n",
      "CTC H5 HE11, bay 4  /rest/server-hardware/34523152-4137-5A43-3239-343130334A39\n",
      "CTC H5 HE11, bay 5  /rest/server-hardware/39313738-3234-5A43-4A39-333930363232\n",
      "CTC H5 HE11, bay 6  /rest/server-hardware/39313738-3234-5A43-4A39-333930363230\n",
      "CTC H5 HE11, bay 7  /rest/server-hardware/39313738-3034-5A43-4A39-333930363235\n",
      "CTC H5 HE11, bay 8  /rest/server-hardware/39313738-3034-5A43-4A39-333930363234\n",
      "CTC H5 HE11, bay 9  /rest/server-hardware/39313738-3034-5A43-4A39-34343036594C\n",
      "CTC H5 HE21, bay 1  /rest/server-hardware/39313738-3034-5A43-4A39-333930363153\n",
      "CTC H5 HE21, bay 10 /rest/server-hardware/39313738-3034-5A43-4A39-34343036594A\n",
      "CTC H5 HE21, bay 2  /rest/server-hardware/39313738-3034-5A43-4A39-333930363154\n",
      "CTC H5 HE21, bay 3  /rest/server-hardware/39313738-3034-5A43-4A39-333930363156\n",
      "CTC H5 HE21, bay 5  /rest/server-hardware/39313738-3234-5A43-4A39-333930363231\n",
      "CTC H5 HE21, bay 6  /rest/server-hardware/39313738-3234-5A43-4A39-33393036315A\n",
      "CTC H5 HE21, bay 7  /rest/server-hardware/39313738-3034-5A43-4A39-333930363159\n",
      "CTC H5 HE21, bay 8  /rest/server-hardware/39313738-3034-5A43-4A39-333930363236\n",
      "CTC H5 HE21, bay 9  /rest/server-hardware/39313738-3034-5A43-4A39-333830323659\n",
      "CTC I5 HE21, bay 1  /rest/server-hardware/39313738-3034-5A43-4A39-343430365953\n",
      "CTC I5 HE21, bay 2  /rest/server-hardware/39313738-3034-5A43-4A39-34343036594E\n",
      "CTC I5 HE21, bay 3  /rest/server-hardware/39313738-3034-5A43-4A39-343430365951\n",
      "CTC I5 HE21, bay 4  /rest/server-hardware/39313738-3034-5A43-4A39-343430365950\n",
      "CTC I5 HE21, bay 5  /rest/server-hardware/39313738-3034-5A43-4A39-343430365952\n",
      "\n"
     ]
    }
   ],
   "source": [
    "Get-HPOVServer | select Name, URI"
   ]
  },
  {
   "cell_type": "markdown",
   "metadata": {},
   "source": [
    "### show Serverprofile"
   ]
  },
  {
   "cell_type": "code",
   "execution_count": 17,
   "metadata": {},
   "outputs": [
    {
     "name": "stdout",
     "output_type": "stream",
     "text": [
      "\n",
      "name                                             uri\n",
      "----                                             ---\n",
      "ANSIBLE_OS_Deploy_via_iLO                        /rest/server-profile-template…\n",
      "CTC ESXi 6.7 U3 SY480G10 I3S SAN GrowCluster SPT /rest/server-profile-template…\n",
      "CTC ESXi 6.7 U3 SY480G10 incl. SAN SPT           /rest/server-profile-template…\n",
      "CTC ESXi 6.7 U3 SY480G10 incl. SAN SPT BfS       /rest/server-profile-template…\n",
      "CTC VCF Management                               /rest/server-profile-template…\n",
      "CTC VCF Workload Domain                          /rest/server-profile-template…\n",
      "CTC Windows Server 2019 BfS                      /rest/server-profile-template…\n",
      "CTC_PP_ESX                                       /rest/server-profile-template…\n",
      "CTC_RHEL7_Docker_SPT                             /rest/server-profile-template…\n",
      "Demo-ServerProfileTemplate                       /rest/server-profile-template…\n",
      "ESX i TPL SAN                                    /rest/server-profile-template…\n",
      "TF_Grid                                          /rest/server-profile-template…\n",
      "\n"
     ]
    }
   ],
   "source": [
    "Get-HPOVServerProfileTemplate|select Name, URI "
   ]
  },
  {
   "cell_type": "code",
   "execution_count": 18,
   "metadata": {},
   "outputs": [
    {
     "name": "stdout",
     "output_type": "stream",
     "text": [
      "\n",
      "name                                    uri\n",
      "----                                    ---\n",
      "acs_WinServerTest                       /rest/server-profiles/153954ac-c359-45…\n",
      "API-ESX                                 /rest/server-profiles/9f433adb-6460-4c…\n",
      "CTC ESXi 6.7 U3 Reference SRV GoldImage /rest/server-profiles/e346a893-8683-43…\n",
      "CTC_API_RHEL7_EFI_GoldenImage           /rest/server-profiles/92ea9a10-5192-4b…\n",
      "CTC-PP-ESX1                             /rest/server-profiles/5cf8b483-0606-46…\n",
      "CTC-PP-ESX2                             /rest/server-profiles/843f4002-ff0b-4b…\n",
      "CTC-Storage-WIN                         /rest/server-profiles/ad0c3432-a308-4d…\n",
      "H5HE01B5-SRT                            /rest/server-profiles/b8b1c38c-f9ae-44…\n",
      "H5HE05B11-VDI                           /rest/server-profiles/0c1a950c-ffc7-4d…\n",
      "H5HE05B6-VDI                            /rest/server-profiles/4755cd8e-2d18-4b…\n",
      "SP-created by Ansible2                  /rest/server-profiles/370788b2-77ef-49…\n",
      "SUO04CTCESX12001                        /rest/server-profiles/f55dde85-a783-4e…\n",
      "SUO04CTCESX9x30                         /rest/server-profiles/cce699b4-892f-40…\n",
      "SUO04CTCESX9x31                         /rest/server-profiles/ddc61ece-fb15-47…\n",
      "SUO04CTCESX9x32                         /rest/server-profiles/ec66ffcc-4258-43…\n",
      "SUO04CTCESX9x33                         /rest/server-profiles/d4988781-de21-46…\n",
      "SUO04CTCVCFESX01                        /rest/server-profiles/205db804-5011-41…\n",
      "SUO04CTCVCFESX02                        /rest/server-profiles/795d549a-ceb7-4b…\n",
      "SUO04CTCVCFESX03                        /rest/server-profiles/5288e16c-9847-4b…\n",
      "SUO04CTCVCFESX04                        /rest/server-profiles/8e03f0c1-3aa4-46…\n",
      "SUO04CTCW20215 BfS                      /rest/server-profiles/52977f71-2e4c-44…\n",
      "SUO04CTCW20216 BfS                      /rest/server-profiles/75458790-2a09-40…\n",
      "SUO04CTCW20217 BfS                      /rest/server-profiles/c5f19dc0-37c0-44…\n",
      "SUO04CTCW20218 BfS                      /rest/server-profiles/f5a1b841-636c-43…\n",
      "Synergy Grow Cluster 02                 /rest/server-profiles/5c7ba9df-5f26-4d…\n",
      "TF_node1                                /rest/server-profiles/a1cc23ef-0d44-44…\n",
      "\n"
     ]
    }
   ],
   "source": [
    "Get-HPOVServerProfile|select Name, URI"
   ]
  },
  {
   "cell_type": "markdown",
   "metadata": {},
   "source": [
    "## Deploy and Install new ESX Server"
   ]
  },
  {
   "cell_type": "markdown",
   "metadata": {},
   "source": [
    "### create server profile (takes 2-3 minutes)\n",
    "<br>\n",
    "<img src=\"Pictures/boot_synergy.gif\" height=\"500\" width=\"500\" align=\"left\">"
   ]
  },
  {
   "cell_type": "code",
   "execution_count": 19,
   "metadata": {},
   "outputs": [
    {
     "name": "stdout",
     "output_type": "stream",
     "text": [
      "                                                                                                                                                                                                                                                                                                                                                                                                                                                                                                 Waiting for 'Create' task to start                                                 Waiting                                                                         [                                                                    ]                                                                                                                                                                       Waiting for 'Create' task to start                                                 Waiting                                                                         [                                                                    ]                                                                                                                                                                       Waiting for 'Create' task to start                                                 Waiting                                                                         [                                                                    ]                                                                                                                                                                       Waiting for 'Create' task to start                                                 Waiting                                                                         [                                                                    ]                                                                                                                                                                       Waiting for 'Create' task to start                                                 Waiting                                                                         [                                                                    ]                                                                                                                                                                       Waiting for 'Create' task to start                                                 Waiting                                                                         [                                                                    ]                                                                                                                                                                       Waiting for 'Create' task to start                                                 Waiting                                                                         [oooooo                                                              ]                                                                                                                                                                                                                                                                                                                                                                                                                                                                                                                                                                                                                                                                                                                                                                                                                                                                                                                                                                                                       Create Roundtable - API Demo Server (Stephan by POSH)                              Configure downlink ports/subports for CTC H5 HE11, bay 1                        [ooooooooooooo                                                       ]                                                                                                                                                                       Create Roundtable - API Demo Server (Stephan by POSH)                              Configure downlink ports/subports for CTC H5 HE11, bay 1                        [ooooooooooooo                                                       ]                                                                                                                                                                       Create Roundtable - API Demo Server (Stephan by POSH)                              Configure downlink ports/subports for CTC H5 HE11, bay 1                        [ooooooooooooo                                                       ]                                                                                                                                                                       Create Roundtable - API Demo Server (Stephan by POSH)                              Configure downlink ports/subports for CTC H5 HE11, bay 1                        [ooooooooooooo                                                       ]                                                                                                                                                                       Create Roundtable - API Demo Server (Stephan by POSH)                              Configure downlink ports/subports for CTC H5 HE11, bay 1                        [ooooooooooooo                                                       ]                                                                                                                                                                       Create Roundtable - API Demo Server (Stephan by POSH)                              Configure downlink ports/subports for CTC H5 HE11, bay 1                        [ooooooooooooo                                                       ]                                                                                                                                                                       Create Roundtable - API Demo Server (Stephan by POSH)                              Configure downlink ports/subports for CTC H5 HE11, bay 1                        [oooooooooooooooooooo                                                ]                                                                                                                                                                       Create Roundtable - API Demo Server (Stephan by POSH)                              Configure downlink ports/subports for CTC H5 HE11, bay 1                        [oooooooooooooooooooo                                                ]                                                                                                                                                                       Create Roundtable - API Demo Server (Stephan by POSH)                              Configure downlink ports/subports for CTC H5 HE11, bay 1                        [oooooooooooooooooooo                                                ]                                                                                                                                                                       Create Roundtable - API Demo Server (Stephan by POSH)                              Configure downlink ports/subports for CTC H5 HE11, bay 1                        [oooooooooooooooooooo                                                ]                                                                                                                                                                       Create Roundtable - API Demo Server (Stephan by POSH)                              Configure downlink ports/subports for CTC H5 HE11, bay 1                        [oooooooooooooooooooo                                                ]                                                                                                                                                                       Create Roundtable - API Demo Server (Stephan by POSH)                              Configure downlink ports/subports for CTC H5 HE11, bay 1                        [oooooooooooooooooooo                                                ]                                                                                                                                                                       Create Roundtable - API Demo Server (Stephan by POSH)                              Configure downlink ports/subports for CTC H5 HE11, bay 1                        [oooooooooooooooooooo                                                ]                                                                                                                                                                       Create Roundtable - API Demo Server (Stephan by POSH)                              Configure downlink ports/subports for CTC H5 HE11, bay 1                        [oooooooooooooooooooo                                                ]                                                                                                                                                                       Create Roundtable - API Demo Server (Stephan by POSH)                              Configure downlink ports/subports for CTC H5 HE11, bay 1                        [oooooooooooooooooooo                                                ]                                                                                                                                                                       Create Roundtable - API Demo Server (Stephan by POSH)                              Configure downlink ports/subports for CTC H5 HE11, bay 1                        [oooooooooooooooooooo                                                ]                                                                                                                                                                       Create Roundtable - API Demo Server (Stephan by POSH)                              Configure downlink ports/subports for CTC H5 HE11, bay 1                        [oooooooooooooooooooo                                                ]                                                                                                                                                                       Create Roundtable - API Demo Server (Stephan by POSH)                              Configure downlink ports/subports for CTC H5 HE11, bay 1                        [oooooooooooooooooooo                                                ]                                                                                                                                                                       Create Roundtable - API Demo Server (Stephan by POSH)                              Configure downlink ports/subports for CTC H5 HE11, bay 1                        [oooooooooooooooooooo                                                ]                                                                                                                                                                       Create Roundtable - API Demo Server (Stephan by POSH)                              Configure downlink ports/subports for CTC H5 HE11, bay 1                        [oooooooooooooooooooo                                                ]                                                                                                                                                                       Create Roundtable - API Demo Server (Stephan by POSH)                              Configure downlink ports/subports for CTC H5 HE11, bay 1                        [oooooooooooooooooooo                                                ]                                                                                                                                                                       Create Roundtable - API Demo Server (Stephan by POSH)                              Configure downlink ports/subports for CTC H5 HE11, bay 1                        [oooooooooooooooooooo                                                ]                                                                                                                                                                       Create Roundtable - API Demo Server (Stephan by POSH)                              Configure downlink ports/subports for CTC H5 HE11, bay 1                        [oooooooooooooooooooo                                                ]                                                                                                                                                                       Create Roundtable - API Demo Server (Stephan by POSH)                              Configure downlink ports/subports for CTC H5 HE11, bay 1                        [oooooooooooooooooooo                                                ]                                                                                                                                                                       Create Roundtable - API Demo Server (Stephan by POSH)                              Configure downlink ports/subports for CTC H5 HE11, bay 1                        [oooooooooooooooooooo                                                ]                                                                                                                                                                       Create Roundtable - API Demo Server (Stephan by POSH)                              Configure downlink ports/subports for CTC H5 HE11, bay 1                        [oooooooooooooooooooo                                                ]                                                                                                                                                                       Create Roundtable - API Demo Server (Stephan by POSH)                              Configure downlink ports/subports for CTC H5 HE11, bay 1                        [oooooooooooooooooooo                                                ]                                                                                                                                                                       Create Roundtable - API Demo Server (Stephan by POSH)                              Configure downlink ports/subports for CTC H5 HE11, bay 1                        [oooooooooooooooooooo                                                ]                                                                                                                                                                       Create Roundtable - API Demo Server (Stephan by POSH)                              Configure downlink ports/subports for CTC H5 HE11, bay 1                        [oooooooooooooooooooo                                                ]                                                                                                                                                                       Create Roundtable - API Demo Server (Stephan by POSH)                              Configure downlink ports/subports for CTC H5 HE11, bay 1                        [oooooooooooooooooooo                                                ]                                                                                                                                                                       Create Roundtable - API Demo Server (Stephan by POSH)                              Configure downlink ports/subports for CTC H5 HE11, bay 1                        [oooooooooooooooooooo                                                ]                                                                                                                                                                       Create Roundtable - API Demo Server (Stephan by POSH)                              Configure downlink ports/subports for CTC H5 HE11, bay 1                        [oooooooooooooooooooo                                                ]                                                                                                                                                                       Create Roundtable - API Demo Server (Stephan by POSH)                              Configure downlink ports/subports for CTC H5 HE11, bay 1                        [oooooooooooooooooooo                                                ]                                                                                                                                                                       Create Roundtable - API Demo Server (Stephan by POSH)                              Configure downlink ports/subports for CTC H5 HE11, bay 1                        [oooooooooooooooooooo                                                ]                                                                                                                                                                       Create Roundtable - API Demo Server (Stephan by POSH)                              Configure downlink ports/subports for CTC H5 HE11, bay 1                        [oooooooooooooooooooo                                                ]                                                                                                                                                                       Create Roundtable - API Demo Server (Stephan by POSH)                              Configure downlink ports/subports for CTC H5 HE11, bay 1                        [oooooooooooooooooooo                                                ]                                                                                                                                                                       Create Roundtable - API Demo Server (Stephan by POSH)                              Configure downlink ports/subports for CTC H5 HE11, bay 1                        [oooooooooooooooooooo                                                ]                                                                                                                                                                       Create Roundtable - API Demo Server (Stephan by POSH)                              Configure downlink ports/subports for CTC H5 HE11, bay 1                        [oooooooooooooooooooo                                                ]                                                                                                                                                                       Create Roundtable - API Demo Server (Stephan by POSH)                              Configure downlink ports/subports for CTC H5 HE11, bay 1                        [oooooooooooooooooooo                                                ]                                                                                                                                                                       Create Roundtable - API Demo Server (Stephan by POSH)                              Configure downlink ports/subports for CTC H5 HE11, bay 1                        [oooooooooooooooooooooooooooooooooooooooo                            ]                                                                                                                                                                       Create Roundtable - API Demo Server (Stephan by POSH)                              Apply settings to CTC H5 HE11, bay 1                                            [ooooooooooooooooooooooooooooooooooooooooooooooo                     ]                                                                                                                                                                       Create Roundtable - API Demo Server (Stephan by POSH)                              Apply settings to CTC H5 HE11, bay 1                                            [ooooooooooooooooooooooooooooooooooooooooooooooo                     ]                                                                                                                                                                       Create Roundtable - API Demo Server (Stephan by POSH)                              Apply settings to CTC H5 HE11, bay 1                                            [ooooooooooooooooooooooooooooooooooooooooooooooo                     ]                                                                                                                                                                       Create Roundtable - API Demo Server (Stephan by POSH)                              Apply settings to CTC H5 HE11, bay 1                                            [ooooooooooooooooooooooooooooooooooooooooooooooo                     ]                                                                                                                                                                       Create Roundtable - API Demo Server (Stephan by POSH)                              Apply settings to CTC H5 HE11, bay 1                                            [ooooooooooooooooooooooooooooooooooooooooooooooo                     ]                                                                                                                                                                       Create Roundtable - API Demo Server (Stephan by POSH)                              Apply settings to CTC H5 HE11, bay 1                                            [ooooooooooooooooooooooooooooooooooooooooooooooo                     ]                                                                                                                                                                       Create Roundtable - API Demo Server (Stephan by POSH)                              Apply settings to CTC H5 HE11, bay 1                                            [ooooooooooooooooooooooooooooooooooooooooooooooo                     ]                                                                                                                                                                       Create Roundtable - API Demo Server (Stephan by POSH)                              Apply settings to CTC H5 HE11, bay 1                                            [ooooooooooooooooooooooooooooooooooooooooooooooo                     ]                                                                                                                                                                       Create Roundtable - API Demo Server (Stephan by POSH)                              Apply settings to CTC H5 HE11, bay 1                                            [ooooooooooooooooooooooooooooooooooooooooooooooo                     ]                                                                                                                                                                       Create Roundtable - API Demo Server (Stephan by POSH)                              Apply settings to CTC H5 HE11, bay 1                                            [ooooooooooooooooooooooooooooooooooooooooooooooo                     ]                                                                                                                                                                       Create Roundtable - API Demo Server (Stephan by POSH)                              Apply settings to CTC H5 HE11, bay 1                                            [ooooooooooooooooooooooooooooooooooooooooooooooo                     ]                                                                                                                                                                       Create Roundtable - API Demo Server (Stephan by POSH)                              Apply settings to CTC H5 HE11, bay 1                                            [ooooooooooooooooooooooooooooooooooooooooooooooo                     ]                                                                                                                                                                       Create Roundtable - API Demo Server (Stephan by POSH)                              Apply settings to CTC H5 HE11, bay 1                                            [ooooooooooooooooooooooooooooooooooooooooooooooo                     ]                                                                                                                                                                       Create Roundtable - API Demo Server (Stephan by POSH)                              Apply settings to CTC H5 HE11, bay 1                                            [ooooooooooooooooooooooooooooooooooooooooooooooo                     ]                                                                                                                                                                       Create Roundtable - API Demo Server (Stephan by POSH)                              Apply settings to CTC H5 HE11, bay 1                                            [ooooooooooooooooooooooooooooooooooooooooooooooo                     ]                                                                                                                                                                       Create Roundtable - API Demo Server (Stephan by POSH)                              Apply settings to CTC H5 HE11, bay 1                                            [ooooooooooooooooooooooooooooooooooooooooooooooo                     ]                                                                                                                                                                       Create Roundtable - API Demo Server (Stephan by POSH)                              Apply settings to CTC H5 HE11, bay 1                                            [ooooooooooooooooooooooooooooooooooooooooooooooo                     ]                                                                                                                                                                       Create Roundtable - API Demo Server (Stephan by POSH)                              Apply settings to CTC H5 HE11, bay 1                                            [ooooooooooooooooooooooooooooooooooooooooooooooo                     ]                                                                                                                                                                       Create Roundtable - API Demo Server (Stephan by POSH)                              Apply settings to CTC H5 HE11, bay 1                                            [ooooooooooooooooooooooooooooooooooooooooooooooo                     ]                                                                                                                                                                       Create Roundtable - API Demo Server (Stephan by POSH)                              Apply settings to CTC H5 HE11, bay 1                                            [ooooooooooooooooooooooooooooooooooooooooooooooo                     ]                                                                                                                                                                       Create Roundtable - API Demo Server (Stephan by POSH)                              Apply settings to CTC H5 HE11, bay 1                                            [ooooooooooooooooooooooooooooooooooooooooooooooo                     ]                                                                                                                                                                       Create Roundtable - API Demo Server (Stephan by POSH)                              Apply settings to CTC H5 HE11, bay 1                                            [ooooooooooooooooooooooooooooooooooooooooooooooo                     ]                                                                                                                                                                       Create Roundtable - API Demo Server (Stephan by POSH)                              Apply settings to CTC H5 HE11, bay 1                                            [ooooooooooooooooooooooooooooooooooooooooooooooo                     ]                                                                                                                                                                       Create Roundtable - API Demo Server (Stephan by POSH)                              Apply settings to CTC H5 HE11, bay 1                                            [ooooooooooooooooooooooooooooooooooooooooooooooo                     ]                                                                                                                                                                       Create Roundtable - API Demo Server (Stephan by POSH)                              Apply settings to CTC H5 HE11, bay 1                                            [ooooooooooooooooooooooooooooooooooooooooooooooo                     ]                                                                                                                                                                       Create Roundtable - API Demo Server (Stephan by POSH)                              Apply settings to CTC H5 HE11, bay 1                                            [ooooooooooooooooooooooooooooooooooooooooooooooo                     ]                                                                                                                                                                       Create Roundtable - API Demo Server (Stephan by POSH)                              Apply settings to CTC H5 HE11, bay 1                                            [ooooooooooooooooooooooooooooooooooooooooooooooo                     ]                                                                                                                                                                       Create Roundtable - API Demo Server (Stephan by POSH)                              Apply settings to CTC H5 HE11, bay 1                                            [ooooooooooooooooooooooooooooooooooooooooooooooo                     ]                                                                                                                                                                       Create Roundtable - API Demo Server (Stephan by POSH)                              Apply settings to CTC H5 HE11, bay 1                                            [ooooooooooooooooooooooooooooooooooooooooooooooo                     ]                                                                                                                                                                       Create Roundtable - API Demo Server (Stephan by POSH)                              Apply settings to CTC H5 HE11, bay 1                                            [ooooooooooooooooooooooooooooooooooooooooooooooo                     ]                                                                                                                                                                       Create Roundtable - API Demo Server (Stephan by POSH)                              Apply settings to CTC H5 HE11, bay 1                                            [ooooooooooooooooooooooooooooooooooooooooooooooo                     ]                                                                                                                                                                       Create Roundtable - API Demo Server (Stephan by POSH)                              Apply settings to CTC H5 HE11, bay 1                                            [ooooooooooooooooooooooooooooooooooooooooooooooo                     ]                                                                                                                                                                       Create Roundtable - API Demo Server (Stephan by POSH)                              Apply settings to CTC H5 HE11, bay 1                                            [ooooooooooooooooooooooooooooooooooooooooooooooo                     ]                                                                                                                                                                       Create Roundtable - API Demo Server (Stephan by POSH)                              Apply settings to CTC H5 HE11, bay 1                                            [ooooooooooooooooooooooooooooooooooooooooooooooo                     ]                                                                                                                                                                       Create Roundtable - API Demo Server (Stephan by POSH)                              Apply settings to CTC H5 HE11, bay 1                                            [ooooooooooooooooooooooooooooooooooooooooooooooo                     ]                                                                                                                                                                       Create Roundtable - API Demo Server (Stephan by POSH)                              Apply settings to CTC H5 HE11, bay 1                                            [ooooooooooooooooooooooooooooooooooooooooooooooo                     ]                                                                                                                                                                       Create Roundtable - API Demo Server (Stephan by POSH)                              Apply settings to CTC H5 HE11, bay 1                                            [ooooooooooooooooooooooooooooooooooooooooooooooo                     ]                                                                                                                                                                       Create Roundtable - API Demo Server (Stephan by POSH)                              Apply settings to CTC H5 HE11, bay 1                                            [ooooooooooooooooooooooooooooooooooooooooooooooo                     ]                                                                                                                                                                       Create Roundtable - API Demo Server (Stephan by POSH)                              Apply settings to CTC H5 HE11, bay 1                                            [ooooooooooooooooooooooooooooooooooooooooooooooo                     ]                                                                                                                                                                       Create Roundtable - API Demo Server (Stephan by POSH)                              Apply settings to CTC H5 HE11, bay 1                                            [ooooooooooooooooooooooooooooooooooooooooooooooo                     ]                                                                                                                                                                       Create Roundtable - API Demo Server (Stephan by POSH)                              Apply settings to CTC H5 HE11, bay 1                                            [ooooooooooooooooooooooooooooooooooooooooooooooo                     ]                                                                                                                                                                       Create Roundtable - API Demo Server (Stephan by POSH)                              Apply settings to CTC H5 HE11, bay 1                                            [ooooooooooooooooooooooooooooooooooooooooooooooo                     ]                                                                                                                                                                       Create Roundtable - API Demo Server (Stephan by POSH)                              Apply settings to CTC H5 HE11, bay 1                                            [ooooooooooooooooooooooooooooooooooooooooooooooo                     ]                                                                                                                                                                       Create Roundtable - API Demo Server (Stephan by POSH)                              Apply settings to CTC H5 HE11, bay 1                                            [ooooooooooooooooooooooooooooooooooooooooooooooo                     ]                                                                                                                                                                       Create Roundtable - API Demo Server (Stephan by POSH)                              Apply settings to CTC H5 HE11, bay 1                                            [ooooooooooooooooooooooooooooooooooooooooooooooo                     ]                                                                                                                                                                       Create Roundtable - API Demo Server (Stephan by POSH)                              Apply settings to CTC H5 HE11, bay 1                                            [ooooooooooooooooooooooooooooooooooooooooooooooo                     ]                                                                                                                                                                       Create Roundtable - API Demo Server (Stephan by POSH)                              Apply settings to CTC H5 HE11, bay 1                                            [ooooooooooooooooooooooooooooooooooooooooooooooo                     ]                                                                                                                                                                       Create Roundtable - API Demo Server (Stephan by POSH)                              Apply settings to CTC H5 HE11, bay 1                                            [ooooooooooooooooooooooooooooooooooooooooooooooo                     ]                                                                                                                                                                       Create Roundtable - API Demo Server (Stephan by POSH)                              Apply settings to CTC H5 HE11, bay 1                                            [ooooooooooooooooooooooooooooooooooooooooooooooo                     ]                                                                                                                                                                       Create Roundtable - API Demo Server (Stephan by POSH)                              Apply settings to CTC H5 HE11, bay 1                                            [ooooooooooooooooooooooooooooooooooooooooooooooo                     ]                                                                                                                                                                       Create Roundtable - API Demo Server (Stephan by POSH)                              Apply settings to CTC H5 HE11, bay 1                                            [ooooooooooooooooooooooooooooooooooooooooooooooo                     ]                                                                                                                                                                       Create Roundtable - API Demo Server (Stephan by POSH)                              Apply settings to CTC H5 HE11, bay 1                                            [ooooooooooooooooooooooooooooooooooooooooooooooo                     ]                                                                                                                                                                       Create Roundtable - API Demo Server (Stephan by POSH)                              Apply settings to CTC H5 HE11, bay 1                                            [ooooooooooooooooooooooooooooooooooooooooooooooo                     ]                                                                                                                                                                       Create Roundtable - API Demo Server (Stephan by POSH)                              Apply settings to CTC H5 HE11, bay 1                                            [ooooooooooooooooooooooooooooooooooooooooooooooo                     ]                                                                                                                                                                       Create Roundtable - API Demo Server (Stephan by POSH)                              Apply settings to CTC H5 HE11, bay 1                                            [ooooooooooooooooooooooooooooooooooooooooooooooo                     ]                                                                                                                                                                       Create Roundtable - API Demo Server (Stephan by POSH)                              Apply settings to CTC H5 HE11, bay 1                                            [ooooooooooooooooooooooooooooooooooooooooooooooo                     ]                                                                                                                                                                       Create Roundtable - API Demo Server (Stephan by POSH)                              Apply settings to CTC H5 HE11, bay 1                                            [ooooooooooooooooooooooooooooooooooooooooooooooo                     ]                                                                                                                                                                       Create Roundtable - API Demo Server (Stephan by POSH)                              Apply settings to CTC H5 HE11, bay 1                                            [ooooooooooooooooooooooooooooooooooooooooooooooo                     ]                                                                                                                                                                       Create Roundtable - API Demo Server (Stephan by POSH)                              Apply settings to CTC H5 HE11, bay 1                                            [ooooooooooooooooooooooooooooooooooooooooooooooo                     ]                                                                                                                                                                       Create Roundtable - API Demo Server (Stephan by POSH)                              Apply settings to CTC H5 HE11, bay 1                                            [ooooooooooooooooooooooooooooooooooooooooooooooo                     ]                                                                                                                                                                       Create Roundtable - API Demo Server (Stephan by POSH)                              Apply settings to CTC H5 HE11, bay 1                                            [ooooooooooooooooooooooooooooooooooooooooooooooo                     ]                                                                                                                                                                       Create Roundtable - API Demo Server (Stephan by POSH)                              Apply settings to CTC H5 HE11, bay 1                                            [ooooooooooooooooooooooooooooooooooooooooooooooo                     ]                                                                                                                                                                       Create Roundtable - API Demo Server (Stephan by POSH)                              Apply settings to CTC H5 HE11, bay 1                                            [ooooooooooooooooooooooooooooooooooooooooooooooo                     ]                                                                                                                                                                       Create Roundtable - API Demo Server (Stephan by POSH)                              Apply settings to CTC H5 HE11, bay 1                                            [ooooooooooooooooooooooooooooooooooooooooooooooo                     ]                                                                                                                                                                       Create Roundtable - API Demo Server (Stephan by POSH)                              Apply settings to CTC H5 HE11, bay 1                                            [ooooooooooooooooooooooooooooooooooooooooooooooo                     ]                                                                                                                                                                       Create Roundtable - API Demo Server (Stephan by POSH)                              Apply settings to CTC H5 HE11, bay 1                                            [ooooooooooooooooooooooooooooooooooooooooooooooo                     ]                                                                                                                                                                       Create Roundtable - API Demo Server (Stephan by POSH)                              Apply settings to CTC H5 HE11, bay 1                                            [ooooooooooooooooooooooooooooooooooooooooooooooo                     ]                                                                                                                                                                       Create Roundtable - API Demo Server (Stephan by POSH)                              Apply settings to CTC H5 HE11, bay 1                                            [ooooooooooooooooooooooooooooooooooooooooooooooo                     ]                                                                                                                                                                       Create Roundtable - API Demo Server (Stephan by POSH)                              Apply settings to CTC H5 HE11, bay 1                                            [ooooooooooooooooooooooooooooooooooooooooooooooo                     ]                                                                                                                                                                       Create Roundtable - API Demo Server (Stephan by POSH)                              Apply settings to CTC H5 HE11, bay 1                                            [ooooooooooooooooooooooooooooooooooooooooooooooo                     ]                                                                                                                                                                       Create Roundtable - API Demo Server (Stephan by POSH)                              Apply settings to CTC H5 HE11, bay 1                                            [ooooooooooooooooooooooooooooooooooooooooooooooo                     ]                                                                                                                                                                       Create Roundtable - API Demo Server (Stephan by POSH)                              Apply settings to CTC H5 HE11, bay 1                                            [ooooooooooooooooooooooooooooooooooooooooooooooo                     ]                                                                                                                                                                       Create Roundtable - API Demo Server (Stephan by POSH)                              Apply settings to CTC H5 HE11, bay 1                                            [ooooooooooooooooooooooooooooooooooooooooooooooo                     ]                                                                                                                                                                       Create Roundtable - API Demo Server (Stephan by POSH)                              Apply settings to CTC H5 HE11, bay 1                                            [ooooooooooooooooooooooooooooooooooooooooooooooo                     ]                                                                                                                                                                       Create Roundtable - API Demo Server (Stephan by POSH)                              Apply settings to CTC H5 HE11, bay 1                                            [ooooooooooooooooooooooooooooooooooooooooooooooo                     ]                                                                                                                                                                       Create Roundtable - API Demo Server (Stephan by POSH)                              Apply settings to CTC H5 HE11, bay 1                                            [ooooooooooooooooooooooooooooooooooooooooooooooo                     ]                                                                                                                                                                       Create Roundtable - API Demo Server (Stephan by POSH)                              Apply settings to CTC H5 HE11, bay 1                                            [ooooooooooooooooooooooooooooooooooooooooooooooo                     ]                                                                                                                                                                       Create Roundtable - API Demo Server (Stephan by POSH)                              Apply settings to CTC H5 HE11, bay 1                                            [ooooooooooooooooooooooooooooooooooooooooooooooo                     ]                                                                                                                                                                       Create Roundtable - API Demo Server (Stephan by POSH)                              Apply settings to CTC H5 HE11, bay 1                                            [ooooooooooooooooooooooooooooooooooooooooooooooo                     ]                                                                                                                                                                       Create Roundtable - API Demo Server (Stephan by POSH)                              Apply settings to CTC H5 HE11, bay 1                                            [ooooooooooooooooooooooooooooooooooooooooooooooo                     ]                                                                                                                                                                       Create Roundtable - API Demo Server (Stephan by POSH)                              Apply settings to CTC H5 HE11, bay 1                                            [ooooooooooooooooooooooooooooooooooooooooooooooo                     ]                                                                                                                                                                       Create Roundtable - API Demo Server (Stephan by POSH)                              Apply settings to CTC H5 HE11, bay 1                                            [ooooooooooooooooooooooooooooooooooooooooooooooo                     ]                                                                                                                                                                       Create Roundtable - API Demo Server (Stephan by POSH)                              Apply settings to CTC H5 HE11, bay 1                                            [ooooooooooooooooooooooooooooooooooooooooooooooo                     ]                                                                                                                                                                       Create Roundtable - API Demo Server (Stephan by POSH)                              Apply settings to CTC H5 HE11, bay 1                                            [ooooooooooooooooooooooooooooooooooooooooooooooo                     ]                                                                                                                                                                       Create Roundtable - API Demo Server (Stephan by POSH)                              Apply settings to CTC H5 HE11, bay 1                                            [ooooooooooooooooooooooooooooooooooooooooooooooo                     ]                                                                                                                                                                       Create Roundtable - API Demo Server (Stephan by POSH)                              Apply settings to CTC H5 HE11, bay 1                                            [ooooooooooooooooooooooooooooooooooooooooooooooo                     ]                                                                                                                                                                       Create Roundtable - API Demo Server (Stephan by POSH)                              Apply settings to CTC H5 HE11, bay 1                                            [ooooooooooooooooooooooooooooooooooooooooooooooo                     ]                                                                                                                                                                       Create Roundtable - API Demo Server (Stephan by POSH)                              Apply settings to CTC H5 HE11, bay 1                                            [ooooooooooooooooooooooooooooooooooooooooooooooo                     ]                                                                                                                                                                       Create Roundtable - API Demo Server (Stephan by POSH)                              Apply settings to CTC H5 HE11, bay 1                                            [ooooooooooooooooooooooooooooooooooooooooooooooo                     ]                                                                                                                                                                       Create Roundtable - API Demo Server (Stephan by POSH)                              Apply settings to CTC H5 HE11, bay 1                                            [ooooooooooooooooooooooooooooooooooooooooooooooo                     ]                                                                                                                                                                       Create Roundtable - API Demo Server (Stephan by POSH)                              Apply settings to CTC H5 HE11, bay 1                                            [ooooooooooooooooooooooooooooooooooooooooooooooo                     ]                                                                                                                                                                       Create Roundtable - API Demo Server (Stephan by POSH)                              Apply settings to CTC H5 HE11, bay 1                                            [ooooooooooooooooooooooooooooooooooooooooooooooo                     ]                                                                                                                                                                       Create Roundtable - API Demo Server (Stephan by POSH)                              Apply settings to CTC H5 HE11, bay 1                                            [ooooooooooooooooooooooooooooooooooooooooooooooo                     ]                                                                                                                                                                       Create Roundtable - API Demo Server (Stephan by POSH)                              Apply settings to CTC H5 HE11, bay 1                                            [ooooooooooooooooooooooooooooooooooooooooooooooo                     ]                                                                                                                                                                       Create Roundtable - API Demo Server (Stephan by POSH)                              Apply settings to CTC H5 HE11, bay 1                                            [ooooooooooooooooooooooooooooooooooooooooooooooo                     ]                                                                                                                                                                       Create Roundtable - API Demo Server (Stephan by POSH)                              Apply settings to CTC H5 HE11, bay 1                                            [ooooooooooooooooooooooooooooooooooooooooooooooo                     ]                                                                                                                                                                       Create Roundtable - API Demo Server (Stephan by POSH)                              Apply settings to CTC H5 HE11, bay 1                                            [ooooooooooooooooooooooooooooooooooooooooooooooo                     ]                                                                                                                                                                       Create Roundtable - API Demo Server (Stephan by POSH)                              Apply settings to CTC H5 HE11, bay 1                                            [ooooooooooooooooooooooooooooooooooooooooooooooo                     ]                                                                                                                                                                       Create Roundtable - API Demo Server (Stephan by POSH)                              Apply settings to CTC H5 HE11, bay 1                                            [ooooooooooooooooooooooooooooooooooooooooooooooo                     ]                                                                                                                                                                       Create Roundtable - API Demo Server (Stephan by POSH)                              Apply settings to CTC H5 HE11, bay 1                                            [ooooooooooooooooooooooooooooooooooooooooooooooo                     ]                                                                                                                                                                       Create Roundtable - API Demo Server (Stephan by POSH)                              Apply settings to CTC H5 HE11, bay 1                                            [ooooooooooooooooooooooooooooooooooooooooooooooo                     ]                                                                                                                                                                       Create Roundtable - API Demo Server (Stephan by POSH)                              Apply settings to CTC H5 HE11, bay 1                                            [ooooooooooooooooooooooooooooooooooooooooooooooo                     ]                                                                                                                                                                       Create Roundtable - API Demo Server (Stephan by POSH)                              Apply settings to CTC H5 HE11, bay 1                                            [ooooooooooooooooooooooooooooooooooooooooooooooo                     ]                                                                                                                                                                       Create Roundtable - API Demo Server (Stephan by POSH)                              Apply settings to CTC H5 HE11, bay 1                                            [ooooooooooooooooooooooooooooooooooooooooooooooo                     ]                                                                                                                                                                                                                                                                                                                                                                                                                                                                                                      \n",
      "Appliance  Name   Owner  Created            Duration TaskState PercentComplete\n",
      "---------  ----   -----  -------            -------- --------- ---------------\n",
      "10.0.20.50 Create python 2/25/20 8:20:23 AM 00:05:00 Completed 100\n",
      "\n"
     ]
    }
   ],
   "source": [
    "### Get the first available server based on the template configuration\n",
    "##$Server = Get-HPOVServer -InputObject $ServerProfileTemplate -NoProfile | Select -First 1\n",
    "\n",
    "$ServerName = \"CTC H5 HE11, bay 1\"\n",
    "$Server=Get-HPOVServer -Name $ServerName\n",
    "\n",
    "#Power off Server if on\n",
    "Stop-HPOVServer -Server $Server -Force -Confirm:$false | Wait-HPOVTaskComplete\n",
    "\n",
    "$Template=Get-HPOVServerProfileTemplate -Name \"ANSIBLE_OS_Deploy_via_iLO\"\n",
    "\n",
    "\n",
    "\n",
    "$params = @{\n",
    "        AssignmentType        = \"Server\";\n",
    "        Description           = \"HPE Synergy 480  Server \";\n",
    "        Name                  = \"Roundtable - API Demo Server (Stephan by POSH)\";\n",
    "        Server                = $Server;\n",
    "        ServerProfileTemplate = $Template;\n",
    "}\n",
    "\n",
    "New-HPOVServerProfile @params | Wait-HPOVTaskComplete\n",
    "\n",
    "#Power on Server\n",
    "#Start-HPOVServer -Server $Server  \n"
   ]
  },
  {
   "cell_type": "markdown",
   "metadata": {},
   "source": [
    "### create kickstart file "
   ]
  },
  {
   "cell_type": "code",
   "execution_count": 20,
   "metadata": {},
   "outputs": [
    {
     "name": "stdout",
     "output_type": "stream",
     "text": []
    }
   ],
   "source": [
    "#write ESX kickstart file on Webserver\n",
    "\n",
    "$OSIP = \"10.0.33.130\"\n",
    "$HOSTNAME = \"esx01\"\n",
    "$OUT=\"/persistent/osdepl/esx67/ks_custom67.cfg\"\n",
    "\n",
    "\n",
    "'' | Out-File  $OUT\n",
    "'# Sample scripted installation file' | Out-File -Append $OUT\n",
    "'# Accept the VMware End User License Agreement' | Out-File -Append $OUT\n",
    "'vmaccepteula' | Out-File -Append $OUT\n",
    "'# Set the root password for the DCUI and ESXi Shell' | Out-File -Append $OUT\n",
    "'rootpw HP1nvent!' | Out-File -Append $OUT\n",
    "'# Install on the first local disk available on machine' | Out-File -Append $OUT\n",
    "'clearpart --firstdisk --overwritevmfs' | Out-File -Append $OUT\n",
    "'install --firstdisk=remote --overwritevmfs' | Out-File -Append $OUT\n",
    "'# Set the network to DHCP on the first network adapater, use the specified hostname and # Create a portgroup for the VMs' | Out-File -Append $OUT\n",
    "'network --bootproto=static --addvmportgroup=1 --ip=' + $OSIP + ' --netmask=255.255.255.0 --gateway=10.0.33.254 --nameserver=10.0.20.5 --hostname=' + $HOSTNAME + ' --device=vmnic0' | Out-File -Append $OUT\n",
    "'# reboots the host after the scripted installation is completed' | Out-File -Append $OUT\n",
    "'reboot' | Out-File -Append $OUT\n",
    "'' | Out-File -Append $OUT\n",
    "'%firstboot --interpreter=busybox' | Out-File -Append $OUT\n",
    "'# Add an extra nic to vSwitch0 (vmnic2)' | Out-File -Append $OUT\n",
    "'esxcli network vswitch standard uplink add --uplink-name=vmnic1 --vswitch-name=vSwitch0' | Out-File -Append $OUT\n",
    "'# Assign an IP-Address to the first VMkernel, this will be used for management' | Out-File -Append $OUT\n",
    "'# esxcli network ip interface ipv4 set --interface-name=vmk0 --type=dhcp' | Out-File -Append $OUT\n",
    "'# esxcli network vswitch standard portgroup add --portgroup-name=vMotion --vswitch-# name=vSwitch0' | Out-File -Append $OUT\n",
    "'esxcli network vswitch standard portgroup set --portgroup-name=vMotion' | Out-File -Append $OUT\n",
    "'esxcli network ip interface add --interface-name=vmk1 --portgroup-name=vMotion' | Out-File -Append $OUT\n",
    "'# esxcli network ip interface ipv4 set --interface-name=vmk1 --type=dhcp' | Out-File -Append $OUT\n",
    "'# Enable vMotion on the newly created VMkernel vmk1' | Out-File -Append $OUT\n",
    "'vim-cmd hostsvc/vmotion/vnic_set vmk1' | Out-File -Append $OUT\n",
    "'# Add new vSwitch for VM traffic, assign uplinks, create a portgroup and assign a VLAN ID' | Out-File -Append $OUT\n",
    "'# esxcli network vswitch standard add --vswitch-name=vSwitch1' | Out-File -Append $OUT\n",
    "'# esxcli network vswitch standard uplink add --uplink-name=vmnic1 --vswitch-name=vSwitch1' | Out-File -Append $OUT\n",
    "'# esxcli network vswitch standard uplink add --uplink-name=vmnic3 --vswitch-name=vSwitch1' | Out-File -Append $OUT\n",
    "'# esxcli network vswitch standard portgroup add --portgroup-name=Production --vswitch-name=vSwitch1' | Out-File -Append $OUT\n",
    "'# esxcli network vswitch standard portgroup set --portgroup-name=Production --vlan-id=10' | Out-File -Append $OUT\n",
    "'# Set DNS and hostname' | Out-File -Append $OUT\n",
    "'# esxcli system hostname set --fqdn=esxi5.localdomain' | Out-File -Append $OUT\n",
    "'esxcli network ip dns search add --domain=demo.local' | Out-File -Append $OUT\n",
    "'esxcli network ip dns server add --server=10.0.20.5' | Out-File -Append $OUT\n",
    "'esxcli network ip dns server add --server=10.0.20.6' | Out-File -Append $OUT\n",
    "'# Set the default PSP for EMC V-MAX to Round Robin as that is our preferred load balancing mechanism' | Out-File -Append $OUT\n",
    "'# esxcli storage nmp satp set --default-psp VMW_PSP_RR --satp VMW_SATP_SYMM' | Out-File -Append $OUT\n",
    "'# Enable SSH and the ESXi Shell' | Out-File -Append $OUT\n",
    "'vim-cmd hostsvc/enable_ssh' | Out-File -Append $OUT\n",
    "'vim-cmd hostsvc/start_ssh' | Out-File -Append $OUT\n",
    "'vim-cmd hostsvc/enable_esx_shell' | Out-File -Append $OUT\n",
    "'vim-cmd hostsvc/start_esx_shell' | Out-File -Append $OUT\n"
   ]
  },
  {
   "cell_type": "markdown",
   "metadata": {},
   "source": [
    "### mount ISO on ilo, set \"next boot from\", power on server"
   ]
  },
  {
   "cell_type": "code",
   "execution_count": 21,
   "metadata": {
    "scrolled": true
   },
   "outputs": [
    {
     "name": "stdout",
     "output_type": "stream",
     "text": [
      "                                                                                                                                                                                                                                                                                                                                                                                                                                                                                                                                                                                                                                                                                                                                                                                                                                                                                                                                                                                                                                                                                                                                                                                                                                                                                                                                                                                                                                                                                                                                                                                                                                                                                                                                                                                                                                                                                                                                                                                                OK\n",
      "                                                                                                                                                                                                                                                                                                                                                                                                                                                                                                                                                                                                                                                                OK\n",
      "                                                                                                                                                                                                                                                                                                                                                                                                                                                                                                 Power on CTC H5 HE11, bay 1                                                        Power on server: CTC H5 HE11, bay 1                                             [                                                                    ]                                                                                                                                                                       Power on CTC H5 HE11, bay 1                                                        Power on server: CTC H5 HE11, bay 1                                             [                                                                    ]                                                                                                                                                                       Power on CTC H5 HE11, bay 1                                                        Power on server: CTC H5 HE11, bay 1                                             [                                                                    ]                                                                                                                                                                       Power on CTC H5 HE11, bay 1                                                        Power on server: CTC H5 HE11, bay 1                                             [                                                                    ]                                                                                                                                                                       Power on CTC H5 HE11, bay 1                                                        Power on server: CTC H5 HE11, bay 1                                             [                                                                    ]                                                                                                                                                                       Power on CTC H5 HE11, bay 1                                                        Power on server: CTC H5 HE11, bay 1                                             [                                                                    ]                                                                                                                                                                       Power on CTC H5 HE11, bay 1                                                        Power on server: CTC H5 HE11, bay 1                                             [                                                                    ]                                                                                                                                                                       Power on CTC H5 HE11, bay 1                                                        Power on server: CTC H5 HE11, bay 1                                             [                                                                    ]                                                                                      \n",
      "Appliance  Name     Owner  Created            Duration TaskState PercentComplet\n",
      "                                                                 e\n",
      "---------  ----     -----  -------            -------- --------- --------------\n",
      "10.0.20.50 Power on python 2/25/20 8:44:52 AM 00:00:12 Completed 100\n",
      "\n",
      "                                                                                                                                                                                                                                                                                                                                                                                                                "
     ]
    }
   ],
   "source": [
    "# mount ISO on ilo, set \"next boot from\", power on server\n",
    "\n",
    "#$ServerName = \"CTC H5 HE11, bay 2\"\n",
    "#$Server=Get-HPOVServer -Name $ServerName\n",
    "\n",
    "\n",
    "$ILOIP = $Server.mpHostInfo.mpIpAddresses[1].address\n",
    "$IsoUrl = \"http://osdepl.demo.local/esx67/esx67u3custom.iso\" \n",
    "\n",
    "#ilo User defined in Server Profile (Template)\n",
    "$User = \"XXXXXX\"\n",
    "$PW = \"XXXXXX\"\n",
    "\n",
    "\n",
    "# Creation of the header\n",
    "\n",
    "$body1 = @{UserName=$User;Password=$PW} | ConvertTo-Json \n",
    "$headers = @{} \n",
    "$headers[\"Content-Type\"] = \"application/json\" \n",
    "$headers[\"OData-Version\"] = \"4.0\" \n",
    "\n",
    "$URL = \"https://$ILOIP/redfish/v1/SessionService/Sessions/\"\n",
    "$response = Invoke-WebRequest $URL -SkipCertificateCheck -ContentType \"application/json\" -Method 'POST' -Headers $headers -Body $body1\n",
    "$Token = $response.Headers['X-Auth-Token'] \n",
    "\n",
    "\n",
    "\n",
    "$headers[\"Content-Type\"] = \"application/json\" \n",
    "$headers[\"X-Auth-Token\"] = \"$Token\" \n",
    "#$headers\n",
    "\n",
    "#Eject Media\n",
    "$URL = \"https://$ILOIP/redfish/v1/Managers/1/VirtualMedia/2/Actions/VirtualMedia.EjectMedia/\"\n",
    "$response = Invoke-WebRequest $URL  -SkipCertificateCheck -ContentType \"application/json\" -Method 'POST' -Headers $headers \n",
    "#$response.StatusDescription \n",
    "\n",
    "#$body = @{Image= $IsoUrl;\"Oem\"= @{\"Hpe\"= @{\"BootOnNextServerReset\"= $True}}} | ConvertTo-Json \n",
    "$body = @{Image= $IsoUrl } | ConvertTo-Json \n",
    "\n",
    "\n",
    "#Mount Media\n",
    "$URL = \"https://$ILOIP/redfish/v1/Managers/1/VirtualMedia/2/Actions/VirtualMedia.InsertMedia/\"\n",
    "$response = Invoke-WebRequest $URL  -SkipCertificateCheck -ContentType \"application/json\" -Method 'POST' -Headers $headers -Body $body\n",
    "\n",
    "$response.StatusDescription \n",
    "\n",
    "# Patch BootOnNextServerReset= $True\n",
    "$body = @{\"Oem\"= @{\"Hpe\"= @{\"BootOnNextServerReset\"= $True}}} | ConvertTo-Json \n",
    "$URL = \"https://$ILOIP/redfish/v1/Managers/1/VirtualMedia/2/\"\n",
    "$response = Invoke-WebRequest $URL  -SkipCertificateCheck -ContentType \"application/json\" -Method 'PATCH' -Headers $headers -Body $body\n",
    "\n",
    "$response.StatusDescription \n",
    "\n",
    "#Power on Server\n",
    "Start-HPOVServer -Server $Server  "
   ]
  },
  {
   "cell_type": "markdown",
   "metadata": {},
   "source": [
    "### join new ESX Server into vcenter "
   ]
  },
  {
   "cell_type": "code",
   "execution_count": 22,
   "metadata": {},
   "outputs": [
    {
     "name": "stdout",
     "output_type": "stream",
     "text": [
      "                                                                                                                                                                                                                                                                                                                                                                                                                 Trying to connect to 10.0.33.130 [10.0.33.130]:                                    Target: 10.0.33.130 [10.0.33.130]. Seconds: 2                                                                                                                                                                                                Trying to connect to 10.0.33.130 [10.0.33.130]:                                    Target: 10.0.33.130 [10.0.33.130]. Seconds: 3                                                                                                                                                                                                Trying to connect to 10.0.33.130 [10.0.33.130]:                                    Target: 10.0.33.130 [10.0.33.130]. Seconds: 4                                                                                                                                                                                                Trying to connect to 10.0.33.130 [10.0.33.130]:                                    Target: 10.0.33.130 [10.0.33.130]. Seconds: 5                                                                                                                                                                                                                                                                                                                                                                                                                                               waiting ...\n",
      "                                                                                                                                                                                                                                                                                                                                                                                                                 Trying to connect to 10.0.33.130 [10.0.33.130]:                                    Target: 10.0.33.130 [10.0.33.130]. Seconds: 2                                                                                                                                                                                                Trying to connect to 10.0.33.130 [10.0.33.130]:                                    Target: 10.0.33.130 [10.0.33.130]. Seconds: 3                                                                                                                                                                                                Trying to connect to 10.0.33.130 [10.0.33.130]:                                    Target: 10.0.33.130 [10.0.33.130]. Seconds: 4                                                                                                                                                                                                Trying to connect to 10.0.33.130 [10.0.33.130]:                                    Target: 10.0.33.130 [10.0.33.130]. Seconds: 5                                                                                                                                                                                                                                                                                                                                                                                                                                               waiting ...\n",
      "                                                                                                                                                                                                                                                                                                                                                                                                                 Trying to connect to 10.0.33.130 [10.0.33.130]:                                    Target: 10.0.33.130 [10.0.33.130]. Seconds: 2                                                                                                                                                                                                Trying to connect to 10.0.33.130 [10.0.33.130]:                                    Target: 10.0.33.130 [10.0.33.130]. Seconds: 3                                                                                                                                                                                                Trying to connect to 10.0.33.130 [10.0.33.130]:                                    Target: 10.0.33.130 [10.0.33.130]. Seconds: 4                                                                                                                                                                                                Trying to connect to 10.0.33.130 [10.0.33.130]:                                    Target: 10.0.33.130 [10.0.33.130]. Seconds: 5                                                                                                                                                                                                                                                                                                                                                                                                                                               waiting ...\n",
      "                                                                                                                                                                                                                                                                                                                                                                                                                 Trying to connect to 10.0.33.130 [10.0.33.130]:                                    Target: 10.0.33.130 [10.0.33.130]. Seconds: 2                                                                                                                                                                                                Trying to connect to 10.0.33.130 [10.0.33.130]:                                    Target: 10.0.33.130 [10.0.33.130]. Seconds: 3                                                                                                                                                                                                Trying to connect to 10.0.33.130 [10.0.33.130]:                                    Target: 10.0.33.130 [10.0.33.130]. Seconds: 4                                                                                                                                                                                                Trying to connect to 10.0.33.130 [10.0.33.130]:                                    Target: 10.0.33.130 [10.0.33.130]. Seconds: 5                                                                                                                                                                                                                                                                                                                                                                                                                                               waiting ...\n",
      "                                                                                                                                                                                                                                                                                                                                                                                                                 Trying to connect to 10.0.33.130 [10.0.33.130]:                                    Target: 10.0.33.130 [10.0.33.130]. Seconds: 2                                                                                                                                                                                                Trying to connect to 10.0.33.130 [10.0.33.130]:                                    Target: 10.0.33.130 [10.0.33.130]. Seconds: 3                                                                                                                                                                                                Trying to connect to 10.0.33.130 [10.0.33.130]:                                    Target: 10.0.33.130 [10.0.33.130]. Seconds: 4                                                                                                                                                                                                Trying to connect to 10.0.33.130 [10.0.33.130]:                                    Target: 10.0.33.130 [10.0.33.130]. Seconds: 5                                                                                                                                                                                                                                                                                                                                                                                                                                               waiting ...\n",
      "                                                                                                                                                                                                                                                                                                                                                                                                                 Trying to connect to 10.0.33.130 [10.0.33.130]:                                    Target: 10.0.33.130 [10.0.33.130]. Seconds: 2                                                                                                                                                                                                Trying to connect to 10.0.33.130 [10.0.33.130]:                                    Target: 10.0.33.130 [10.0.33.130]. Seconds: 3                                                                                                                                                                                                Trying to connect to 10.0.33.130 [10.0.33.130]:                                    Target: 10.0.33.130 [10.0.33.130]. Seconds: 4                                                                                                                                                                                                Trying to connect to 10.0.33.130 [10.0.33.130]:                                    Target: 10.0.33.130 [10.0.33.130]. Seconds: 5                                                                                                                                                                                                                                                                                                                                                                                                                                               waiting ...\n",
      "                                                                                                                                                                                                                                                                                                                                                                                                                 Trying to connect to 10.0.33.130 [10.0.33.130]:                                    Target: 10.0.33.130 [10.0.33.130]. Seconds: 2                                                                                                                                                                                                Trying to connect to 10.0.33.130 [10.0.33.130]:                                    Target: 10.0.33.130 [10.0.33.130]. Seconds: 3                                                                                                                                                                                                Trying to connect to 10.0.33.130 [10.0.33.130]:                                    Target: 10.0.33.130 [10.0.33.130]. Seconds: 4                                                                                                                                                                                                Trying to connect to 10.0.33.130 [10.0.33.130]:                                    Target: 10.0.33.130 [10.0.33.130]. Seconds: 5                                                                                                                                                                                                                                                                                                                                                                                                                                               waiting ...\n",
      "                                                                                                                                                                                                                                                                                                                                                                                                                 Trying to connect to 10.0.33.130 [10.0.33.130]:                                    Target: 10.0.33.130 [10.0.33.130]. Seconds: 2                                                                                                                                                                                                Trying to connect to 10.0.33.130 [10.0.33.130]:                                    Target: 10.0.33.130 [10.0.33.130]. Seconds: 3                                                                                                                                                                                                Trying to connect to 10.0.33.130 [10.0.33.130]:                                    Target: 10.0.33.130 [10.0.33.130]. Seconds: 4                                                                                                                                                                                                Trying to connect to 10.0.33.130 [10.0.33.130]:                                    Target: 10.0.33.130 [10.0.33.130]. Seconds: 5                                                                                                                                                                                                                                                                                                                                                                                                                                               waiting ...\n",
      "                                                                                                                                                                                                                                                                                                                                                                                                                 Trying to connect to 10.0.33.130 [10.0.33.130]:                                    Target: 10.0.33.130 [10.0.33.130]. Seconds: 2                                                                                                                                                                                                Trying to connect to 10.0.33.130 [10.0.33.130]:                                    Target: 10.0.33.130 [10.0.33.130]. Seconds: 3                                                                                                                                                                                                Trying to connect to 10.0.33.130 [10.0.33.130]:                                    Target: 10.0.33.130 [10.0.33.130]. Seconds: 4                                                                                                                                                                                                Trying to connect to 10.0.33.130 [10.0.33.130]:                                    Target: 10.0.33.130 [10.0.33.130]. Seconds: 5                                                                                                                                                                                                                                                                                                                                                                                                                                               waiting ...\n",
      "                                                                                                                                                                                                                                                                                                                                                                                                                 Trying to connect to 10.0.33.130 [10.0.33.130]:                                    Target: 10.0.33.130 [10.0.33.130]. Seconds: 2                                                                                                                                                                                                Trying to connect to 10.0.33.130 [10.0.33.130]:                                    Target: 10.0.33.130 [10.0.33.130]. Seconds: 3                                                                                                                                                                                                Trying to connect to 10.0.33.130 [10.0.33.130]:                                    Target: 10.0.33.130 [10.0.33.130]. Seconds: 4                                                                                                                                                                                                Trying to connect to 10.0.33.130 [10.0.33.130]:                                    Target: 10.0.33.130 [10.0.33.130]. Seconds: 5                                                                                                                                                                                                                                                                                                                                                                                                                                               waiting ...\n",
      "                                                                                                                                                                                                                                                                                                                                                                                                                 Trying to connect to 10.0.33.130 [10.0.33.130]:                                    Target: 10.0.33.130 [10.0.33.130]. Seconds: 2                                                                                                                                                                                                Trying to connect to 10.0.33.130 [10.0.33.130]:                                    Target: 10.0.33.130 [10.0.33.130]. Seconds: 3                                                                                                                                                                                                Trying to connect to 10.0.33.130 [10.0.33.130]:                                    Target: 10.0.33.130 [10.0.33.130]. Seconds: 4                                                                                                                                                                                                Trying to connect to 10.0.33.130 [10.0.33.130]:                                    Target: 10.0.33.130 [10.0.33.130]. Seconds: 5                                                                                                                                                                                                                                                                                                                                                                                                                                               waiting ...\n",
      "                                                                                                                                                                                                                                                                                                                                                                                                                 Trying to connect to 10.0.33.130 [10.0.33.130]:                                    Target: 10.0.33.130 [10.0.33.130]. Seconds: 2                                                                                                                                                                                                Trying to connect to 10.0.33.130 [10.0.33.130]:                                    Target: 10.0.33.130 [10.0.33.130]. Seconds: 3                                                                                                                                                                                                Trying to connect to 10.0.33.130 [10.0.33.130]:                                    Target: 10.0.33.130 [10.0.33.130]. Seconds: 4                                                                                                                                                                                                Trying to connect to 10.0.33.130 [10.0.33.130]:                                    Target: 10.0.33.130 [10.0.33.130]. Seconds: 5                                                                                                                                                                                                                                                                                                                                                                                                                                               waiting ...\n",
      "                                                                                                                                                                                                                                                                                                                                                                                                                 Trying to connect to 10.0.33.130 [10.0.33.130]:                                    Target: 10.0.33.130 [10.0.33.130]. Seconds: 2                                                                                                                                                                                                Trying to connect to 10.0.33.130 [10.0.33.130]:                                    Target: 10.0.33.130 [10.0.33.130]. Seconds: 3                                                                                                                                                                                                Trying to connect to 10.0.33.130 [10.0.33.130]:                                    Target: 10.0.33.130 [10.0.33.130]. Seconds: 4                                                                                                                                                                                                Trying to connect to 10.0.33.130 [10.0.33.130]:                                    Target: 10.0.33.130 [10.0.33.130]. Seconds: 5                                                                                                                                                                                                                                                                                                                                                                                                                                               waiting ...\n",
      "                                                                                                                                                                                                                                                                                                                                                                                                                 Trying to connect to 10.0.33.130 [10.0.33.130]:                                    Target: 10.0.33.130 [10.0.33.130]. Seconds: 2                                                                                                                                                                                                Trying to connect to 10.0.33.130 [10.0.33.130]:                                    Target: 10.0.33.130 [10.0.33.130]. Seconds: 3                                                                                                                                                                                                Trying to connect to 10.0.33.130 [10.0.33.130]:                                    Target: 10.0.33.130 [10.0.33.130]. Seconds: 4                                                                                                                                                                                                Trying to connect to 10.0.33.130 [10.0.33.130]:                                    Target: 10.0.33.130 [10.0.33.130]. Seconds: 5                                                                                                                                                                                                                                                                                                                                                                                                                                               waiting ...\n",
      "                                                                                                                                                                                                                                                                                                                                                                                                                 Trying to connect to 10.0.33.130 [10.0.33.130]:                                    Target: 10.0.33.130 [10.0.33.130]. Seconds: 2                                                                                                                                                                                                Trying to connect to 10.0.33.130 [10.0.33.130]:                                    Target: 10.0.33.130 [10.0.33.130]. Seconds: 3                                                                                                                                                                                                Trying to connect to 10.0.33.130 [10.0.33.130]:                                    Target: 10.0.33.130 [10.0.33.130]. Seconds: 4                                                                                                                                                                                                Trying to connect to 10.0.33.130 [10.0.33.130]:                                    Target: 10.0.33.130 [10.0.33.130]. Seconds: 5                                                                                                                                                                                                                                                                                                                                                                                                                                               waiting ...\n",
      "                                                                                                                                                                                                                                                                                                                                                                                                                 Trying to connect to 10.0.33.130 [10.0.33.130]:                                    Target: 10.0.33.130 [10.0.33.130]. Seconds: 2                                                                                                                                                                                                Trying to connect to 10.0.33.130 [10.0.33.130]:                                    Target: 10.0.33.130 [10.0.33.130]. Seconds: 3                                                                                                                                                                                                Trying to connect to 10.0.33.130 [10.0.33.130]:                                    Target: 10.0.33.130 [10.0.33.130]. Seconds: 4                                                                                                                                                                                                Trying to connect to 10.0.33.130 [10.0.33.130]:                                    Target: 10.0.33.130 [10.0.33.130]. Seconds: 5                                                                                                                                                                                                                                                                                                                                                                                                                                               waiting ...\n",
      "                                                                                                                                                                                                                                                                                                                                                                                                                 Trying to connect to 10.0.33.130 [10.0.33.130]:                                    Target: 10.0.33.130 [10.0.33.130]. Seconds: 2                                                                                                                                                                                                Trying to connect to 10.0.33.130 [10.0.33.130]:                                    Target: 10.0.33.130 [10.0.33.130]. Seconds: 3                                                                                                                                                                                                Trying to connect to 10.0.33.130 [10.0.33.130]:                                    Target: 10.0.33.130 [10.0.33.130]. Seconds: 4                                                                                                                                                                                                Trying to connect to 10.0.33.130 [10.0.33.130]:                                    Target: 10.0.33.130 [10.0.33.130]. Seconds: 5                                                                                                                                                                                                                                                                                                                                                                                                                                               waiting ...\n",
      "                                                                                                                                                                                                                                                                                                                                                                                                                 Trying to connect to 10.0.33.130 [10.0.33.130]:                                    Target: 10.0.33.130 [10.0.33.130]. Seconds: 2                                                                                                                                                                                                Trying to connect to 10.0.33.130 [10.0.33.130]:                                    Target: 10.0.33.130 [10.0.33.130]. Seconds: 3                                                                                                                                                                                                Trying to connect to 10.0.33.130 [10.0.33.130]:                                    Target: 10.0.33.130 [10.0.33.130]. Seconds: 4                                                                                                                                                                                                Trying to connect to 10.0.33.130 [10.0.33.130]:                                    Target: 10.0.33.130 [10.0.33.130]. Seconds: 5                                                                                                                                                                                                                                                                                                                                                                                                                                               waiting ...\n",
      "                                                                                                                                                                                                                                                                                                                                                                                                                 Trying to connect to 10.0.33.130 [10.0.33.130]:                                    Target: 10.0.33.130 [10.0.33.130]. Seconds: 2                                                                                                                                                                                                Trying to connect to 10.0.33.130 [10.0.33.130]:                                    Target: 10.0.33.130 [10.0.33.130]. Seconds: 3                                                                                                                                                                                                Trying to connect to 10.0.33.130 [10.0.33.130]:                                    Target: 10.0.33.130 [10.0.33.130]. Seconds: 4                                                                                                                                                                                                Trying to connect to 10.0.33.130 [10.0.33.130]:                                    Target: 10.0.33.130 [10.0.33.130]. Seconds: 5                                                                                                                                                                                                                                                                                                                                                                                                                                               waiting ...\n",
      "                                                                                                                                                                                                                                                                                                                                                                                                                 Trying to connect to 10.0.33.130 [10.0.33.130]:                                    Target: 10.0.33.130 [10.0.33.130]. Seconds: 2                                                                                                                                                                                                Trying to connect to 10.0.33.130 [10.0.33.130]:                                    Target: 10.0.33.130 [10.0.33.130]. Seconds: 3                                                                                                                                                                                                Trying to connect to 10.0.33.130 [10.0.33.130]:                                    Target: 10.0.33.130 [10.0.33.130]. Seconds: 4                                                                                                                                                                                                Trying to connect to 10.0.33.130 [10.0.33.130]:                                    Target: 10.0.33.130 [10.0.33.130]. Seconds: 5                                                                                                                                                                                                                                                                                                                                                                                                                                               waiting ...\n",
      "                                                                                                                                                                                                                                                                                                                                                                                                                 Trying to connect to 10.0.33.130 [10.0.33.130]:                                    Target: 10.0.33.130 [10.0.33.130]. Seconds: 2                                                                                                                                                                                                Trying to connect to 10.0.33.130 [10.0.33.130]:                                    Target: 10.0.33.130 [10.0.33.130]. Seconds: 3                                                                                                                                                                                                Trying to connect to 10.0.33.130 [10.0.33.130]:                                    Target: 10.0.33.130 [10.0.33.130]. Seconds: 4                                                                                                                                                                                                Trying to connect to 10.0.33.130 [10.0.33.130]:                                    Target: 10.0.33.130 [10.0.33.130]. Seconds: 5                                                                                                                                                                                                                                                                                                                                                                                                                                               waiting ...\n",
      "                                                                                                                                                                                                                                                                                                                                                                                                                                                                                                                                                                                                                                                                waiting ...\n",
      "                                                                                                                                                                                                                                                                                                                                                                                                                                                                                                                                                                                                                                                                waiting ...\n",
      "                                                                                                                                                                                                                                                                                                                                                                                                                                                                                                                                                                                                                                                                waiting ...\n",
      "                                                                                                                                                                                                                                                                                                                                                                                                                                                                                                                                                                                                                                                                waiting ...\n",
      "                                                                                                                                                                                                                                                                                                                                                                                                                                                                                                                                                                                                                                                                waiting ...\n",
      "                                                                                                                                                                                                                                                                                                                                                                                                                                                                                                                                                                                                                                                                waiting ...\n",
      "                                                                                                                                                                                                                                                                                                                                                                                                                                                                                                                                                                                                                                                                waiting ...\n",
      "                                                                                                                                                                                                                                                                                                                                                                                                                 Trying to connect to 10.0.33.130 [10.0.33.130]:                                    Target: 10.0.33.130 [10.0.33.130]. Seconds: 2                                                                                                                                                                                                Trying to connect to 10.0.33.130 [10.0.33.130]:                                    Target: 10.0.33.130 [10.0.33.130]. Seconds: 3                                                                                                                                                                                                Trying to connect to 10.0.33.130 [10.0.33.130]:                                    Target: 10.0.33.130 [10.0.33.130]. Seconds: 4                                                                                                                                                                                                Trying to connect to 10.0.33.130 [10.0.33.130]:                                    Target: 10.0.33.130 [10.0.33.130]. Seconds: 5                                                                                                                                                                                                                                                                                                                                                                                                                                               waiting ...\n",
      "                                                                                                                                                                                                                                                                                                                                                                                                                 Trying to connect to 10.0.33.130 [10.0.33.130]:                                    Target: 10.0.33.130 [10.0.33.130]. Seconds: 2                                                                                                                                                                                                Trying to connect to 10.0.33.130 [10.0.33.130]:                                    Target: 10.0.33.130 [10.0.33.130]. Seconds: 3                                                                                                                                                                                                Trying to connect to 10.0.33.130 [10.0.33.130]:                                    Target: 10.0.33.130 [10.0.33.130]. Seconds: 4                                                                                                                                                                                                Trying to connect to 10.0.33.130 [10.0.33.130]:                                    Target: 10.0.33.130 [10.0.33.130]. Seconds: 5                                                                                                                                                                                                                                                                                                                                                                                                                                               waiting ...\n",
      "                                                                                                                                                                                                                                                                                                                                                                                                                 Trying to connect to 10.0.33.130 [10.0.33.130]:                                    Target: 10.0.33.130 [10.0.33.130]. Seconds: 2                                                                                                                                                                                                Trying to connect to 10.0.33.130 [10.0.33.130]:                                    Target: 10.0.33.130 [10.0.33.130]. Seconds: 3                                                                                                                                                                                                Trying to connect to 10.0.33.130 [10.0.33.130]:                                    Target: 10.0.33.130 [10.0.33.130]. Seconds: 4                                                                                                                                                                                                Trying to connect to 10.0.33.130 [10.0.33.130]:                                    Target: 10.0.33.130 [10.0.33.130]. Seconds: 5                                                                                                                                                                                                                                                                                                                                                                                                                                               waiting ...\n",
      "                                                                                                                                                                                                                                                                                                                                                                                                                 Trying to connect to 10.0.33.130 [10.0.33.130]:                                    Target: 10.0.33.130 [10.0.33.130]. Seconds: 2                                                                                                                                                                                                Trying to connect to 10.0.33.130 [10.0.33.130]:                                    Target: 10.0.33.130 [10.0.33.130]. Seconds: 3                                                                                                                                                                                                Trying to connect to 10.0.33.130 [10.0.33.130]:                                    Target: 10.0.33.130 [10.0.33.130]. Seconds: 4                                                                                                                                                                                                Trying to connect to 10.0.33.130 [10.0.33.130]:                                    Target: 10.0.33.130 [10.0.33.130]. Seconds: 5                                                                                                                                                                                                                                                                                                                                                                                                                                               waiting ...\n",
      "                                                                                                                                                                                                                                                                                                                                                                                                                 Trying to connect to 10.0.33.130 [10.0.33.130]:                                    Target: 10.0.33.130 [10.0.33.130]. Seconds: 2                                                                                                                                                                                                Trying to connect to 10.0.33.130 [10.0.33.130]:                                    Target: 10.0.33.130 [10.0.33.130]. Seconds: 3                                                                                                                                                                                                Trying to connect to 10.0.33.130 [10.0.33.130]:                                    Target: 10.0.33.130 [10.0.33.130]. Seconds: 4                                                                                                                                                                                                Trying to connect to 10.0.33.130 [10.0.33.130]:                                    Target: 10.0.33.130 [10.0.33.130]. Seconds: 5                                                                                                                                                                                                                                                                                                                                                                                                                                               waiting ...\n",
      "                                                                                                                                                                                                                                                                                                                                                                                                                 Trying to connect to 10.0.33.130 [10.0.33.130]:                                    Target: 10.0.33.130 [10.0.33.130]. Seconds: 2                                                                                                                                                                                                Trying to connect to 10.0.33.130 [10.0.33.130]:                                    Target: 10.0.33.130 [10.0.33.130]. Seconds: 3                                                                                                                                                                                                Trying to connect to 10.0.33.130 [10.0.33.130]:                                    Target: 10.0.33.130 [10.0.33.130]. Seconds: 4                                                                                                                                                                                                Trying to connect to 10.0.33.130 [10.0.33.130]:                                    Target: 10.0.33.130 [10.0.33.130]. Seconds: 5                                                                                                                                                                                                                                                                                                                                                                                                                                               waiting ...\n",
      "                                                                                                                                                                                                                                                                                                                                                                                                                 Trying to connect to 10.0.33.130 [10.0.33.130]:                                    Target: 10.0.33.130 [10.0.33.130]. Seconds: 2                                                                                                                                                                                                Trying to connect to 10.0.33.130 [10.0.33.130]:                                    Target: 10.0.33.130 [10.0.33.130]. Seconds: 3                                                                                                                                                                                                Trying to connect to 10.0.33.130 [10.0.33.130]:                                    Target: 10.0.33.130 [10.0.33.130]. Seconds: 4                                                                                                                                                                                                Trying to connect to 10.0.33.130 [10.0.33.130]:                                    Target: 10.0.33.130 [10.0.33.130]. Seconds: 5                                                                                                                                                                                                                                                                                                                                                                                                                                               waiting ...\n",
      "                                                                                                                                                                                                                                                                                                                                                                                                                 Trying to connect to 10.0.33.130 [10.0.33.130]:                                    Target: 10.0.33.130 [10.0.33.130]. Seconds: 2                                                                                                                                                                                                Trying to connect to 10.0.33.130 [10.0.33.130]:                                    Target: 10.0.33.130 [10.0.33.130]. Seconds: 3                                                                                                                                                                                                Trying to connect to 10.0.33.130 [10.0.33.130]:                                    Target: 10.0.33.130 [10.0.33.130]. Seconds: 4                                                                                                                                                                                                Trying to connect to 10.0.33.130 [10.0.33.130]:                                    Target: 10.0.33.130 [10.0.33.130]. Seconds: 5                                                                                                                                                                                                                                                                                                                                                                                                                                               waiting ...\n",
      "                                                                                                                                                                                                                                                                                                                                                                                                                 Trying to connect to 10.0.33.130 [10.0.33.130]:                                    Target: 10.0.33.130 [10.0.33.130]. Seconds: 2                                                                                                                                                                                                Trying to connect to 10.0.33.130 [10.0.33.130]:                                    Target: 10.0.33.130 [10.0.33.130]. Seconds: 3                                                                                                                                                                                                Trying to connect to 10.0.33.130 [10.0.33.130]:                                    Target: 10.0.33.130 [10.0.33.130]. Seconds: 4                                                                                                                                                                                                Trying to connect to 10.0.33.130 [10.0.33.130]:                                    Target: 10.0.33.130 [10.0.33.130]. Seconds: 5                                                                                                                                                                                                                                                                                                                                                                                                                                               waiting ...\n",
      "                                                                                                                                                                                                                                                                                                                                                                                                                 Trying to connect to 10.0.33.130 [10.0.33.130]:                                    Target: 10.0.33.130 [10.0.33.130]. Seconds: 2                                                                                                                                                                                                Trying to connect to 10.0.33.130 [10.0.33.130]:                                    Target: 10.0.33.130 [10.0.33.130]. Seconds: 3                                                                                                                                                                                                Trying to connect to 10.0.33.130 [10.0.33.130]:                                    Target: 10.0.33.130 [10.0.33.130]. Seconds: 4                                                                                                                                                                                                Trying to connect to 10.0.33.130 [10.0.33.130]:                                    Target: 10.0.33.130 [10.0.33.130]. Seconds: 5                                                                                                                                                                                                                                                                                                                                                                                                                                               waiting ...\n",
      "                                                                                                                                                                                                                                                                                                                                                                                                                 Trying to connect to 10.0.33.130 [10.0.33.130]:                                    Target: 10.0.33.130 [10.0.33.130]. Seconds: 2                                                                                                                                                                                                Trying to connect to 10.0.33.130 [10.0.33.130]:                                    Target: 10.0.33.130 [10.0.33.130]. Seconds: 3                                                                                                                                                                                                Trying to connect to 10.0.33.130 [10.0.33.130]:                                    Target: 10.0.33.130 [10.0.33.130]. Seconds: 4                                                                                                                                                                                                Trying to connect to 10.0.33.130 [10.0.33.130]:                                    Target: 10.0.33.130 [10.0.33.130]. Seconds: 5                                                                                                                                                                                                                                                                                                                                                                                                                                               waiting ...\n",
      "                                                                                                                                                                                                                                                                                                                                                                                                                 Trying to connect to 10.0.33.130 [10.0.33.130]:                                    Target: 10.0.33.130 [10.0.33.130]. Seconds: 2                                                                                                                                                                                                Trying to connect to 10.0.33.130 [10.0.33.130]:                                    Target: 10.0.33.130 [10.0.33.130]. Seconds: 3                                                                                                                                                                                                Trying to connect to 10.0.33.130 [10.0.33.130]:                                    Target: 10.0.33.130 [10.0.33.130]. Seconds: 4                                                                                                                                                                                                Trying to connect to 10.0.33.130 [10.0.33.130]:                                    Target: 10.0.33.130 [10.0.33.130]. Seconds: 5                                                                                                                                                                                                                                                                                                                                                                                                                                               waiting ...\n",
      "                                                                                                                                                                                                                                                                                                                                                                                                                 Trying to connect to 10.0.33.130 [10.0.33.130]:                                    Target: 10.0.33.130 [10.0.33.130]. Seconds: 2                                                                                                                                                                                                Trying to connect to 10.0.33.130 [10.0.33.130]:                                    Target: 10.0.33.130 [10.0.33.130]. Seconds: 3                                                                                                                                                                                                Trying to connect to 10.0.33.130 [10.0.33.130]:                                    Target: 10.0.33.130 [10.0.33.130]. Seconds: 4                                                                                                                                                                                                Trying to connect to 10.0.33.130 [10.0.33.130]:                                    Target: 10.0.33.130 [10.0.33.130]. Seconds: 5                                                                                                                                                                                                                                                                                                                                                                                                                                               waiting ...\n",
      "                                                                                                                                                                                                                                                                                                                                                                                                                 Trying to connect to 10.0.33.130 [10.0.33.130]:                                    Target: 10.0.33.130 [10.0.33.130]. Seconds: 2                                                                                                                                                                                                Trying to connect to 10.0.33.130 [10.0.33.130]:                                    Target: 10.0.33.130 [10.0.33.130]. Seconds: 3                                                                                                                                                                                                Trying to connect to 10.0.33.130 [10.0.33.130]:                                    Target: 10.0.33.130 [10.0.33.130]. Seconds: 4                                                                                                                                                                                                Trying to connect to 10.0.33.130 [10.0.33.130]:                                    Target: 10.0.33.130 [10.0.33.130]. Seconds: 5                                                                                                                                                                                                                                                                                                                                                                                                                                               waiting ...\n",
      "                                                                                                                                                                                                                                                                                                                                                                                                                 Trying to connect to 10.0.33.130 [10.0.33.130]:                                    Target: 10.0.33.130 [10.0.33.130]. Seconds: 2                                                                                                                                                                                                Trying to connect to 10.0.33.130 [10.0.33.130]:                                    Target: 10.0.33.130 [10.0.33.130]. Seconds: 3                                                                                                                                                                                                Trying to connect to 10.0.33.130 [10.0.33.130]:                                    Target: 10.0.33.130 [10.0.33.130]. Seconds: 4                                                                                                                                                                                                Trying to connect to 10.0.33.130 [10.0.33.130]:                                    Target: 10.0.33.130 [10.0.33.130]. Seconds: 5                                                                                                                                                                                                                                                                                                                                                                                                                                               waiting ...\n",
      "                                                                                                                                                                                                                                                                                                                                                                                                                 Trying to connect to 10.0.33.130 [10.0.33.130]:                                    Target: 10.0.33.130 [10.0.33.130]. Seconds: 2                                                                                                                                                                                                Trying to connect to 10.0.33.130 [10.0.33.130]:                                    Target: 10.0.33.130 [10.0.33.130]. Seconds: 3                                                                                                                                                                                                Trying to connect to 10.0.33.130 [10.0.33.130]:                                    Target: 10.0.33.130 [10.0.33.130]. Seconds: 4                                                                                                                                                                                                Trying to connect to 10.0.33.130 [10.0.33.130]:                                    Target: 10.0.33.130 [10.0.33.130]. Seconds: 5                                                                                                                                                                                                                                                                                                                                                                                                                                               waiting ...\n",
      "                                                                                                                                                                                                                                                                                                                                                                                                                 Trying to connect to 10.0.33.130 [10.0.33.130]:                                    Target: 10.0.33.130 [10.0.33.130]. Seconds: 2                                                                                                                                                                                                Trying to connect to 10.0.33.130 [10.0.33.130]:                                    Target: 10.0.33.130 [10.0.33.130]. Seconds: 3                                                                                                                                                                                                Trying to connect to 10.0.33.130 [10.0.33.130]:                                    Target: 10.0.33.130 [10.0.33.130]. Seconds: 4                                                                                                                                                                                                Trying to connect to 10.0.33.130 [10.0.33.130]:                                    Target: 10.0.33.130 [10.0.33.130]. Seconds: 5                                                                                                                                                                                                                                                                                                                                                                                                                                               waiting ...\n",
      "                                                                                                                                                                                                                                                                                                                                                                                                                 Trying to connect to 10.0.33.130 [10.0.33.130]:                                    Target: 10.0.33.130 [10.0.33.130]. Seconds: 2                                                                                                                                                                                                Trying to connect to 10.0.33.130 [10.0.33.130]:                                    Target: 10.0.33.130 [10.0.33.130]. Seconds: 3                                                                                                                                                                                                Trying to connect to 10.0.33.130 [10.0.33.130]:                                    Target: 10.0.33.130 [10.0.33.130]. Seconds: 4                                                                                                                                                                                                Trying to connect to 10.0.33.130 [10.0.33.130]:                                    Target: 10.0.33.130 [10.0.33.130]. Seconds: 5                                                                                                                                                                                                                                                                                                                                                                                                                                               waiting ...\n",
      "                                                                                                                                                                                                                                                                                                                                                                                                                 Trying to connect to 10.0.33.130 [10.0.33.130]:                                    Target: 10.0.33.130 [10.0.33.130]. Seconds: 2                                                                                                                                                                                                Trying to connect to 10.0.33.130 [10.0.33.130]:                                    Target: 10.0.33.130 [10.0.33.130]. Seconds: 3                                                                                                                                                                                                Trying to connect to 10.0.33.130 [10.0.33.130]:                                    Target: 10.0.33.130 [10.0.33.130]. Seconds: 4                                                                                                                                                                                                                                                                                                                                                                                                                                               waiting ...\n",
      "                                                                                                                                                                                                                                                                                                                                                                                                                                                                                                                                                                                                                                                                waiting ...\n",
      "                                                                                                                                                                                                                                                                                                                                                                                                                                                                                                                                                                                                                                                                waiting ...\n",
      "                                                                                                                                                                                                                                                                                                                                                                                                                                                                                                                                                                                                                                                                waiting ...\n",
      "                                                                                                                                                                                                                                                                                                                                                                                                                                                                                                                                                                                                                                                                waiting ...\n",
      "                                                                                                                                                                                                                                                                                                                                                                                                                                                                                                                                                                                                                                                                waiting ...\n",
      "                                                                                                                                                                                                                                                                                                                                                                                                                                                                                                                                                                                                                                                                waiting ...\n",
      "                                                                                                                                                                                                                                                                                                                                                                                                                                                                                                                                                                                                                                                                waiting ...\n",
      "                                                                                                                                                                                                                                                                                                                                                                                                                                                                                                                                                                                                                                                                waiting ...\n",
      "                                                                                                                                                                                                                                                                                                                                                                                                                                                                                                                                                                                                                                                                waiting ...\n",
      "                                                                                                                                                                                                                                                                                                                                                                                                                                                                                                                                                                                                                                                                waiting ...\n",
      "                                                                                                                                                                                                                                                                                                                                                                                                                                                                                                                                                                                                                                                                waiting ...\n",
      "                                                                                                                                                                                                                                                                                                                                                                                                                                                                                                                                                                                                                                                                waiting ...\n",
      "installation finished ...\n",
      "WARNING: Please consider joining the VMware Customer Experience Improvement Program, so you can help us make PowerCLI a better product. You can join using the following command:\n",
      "\n",
      "Set-PowerCLIConfiguration -Scope User -ParticipateInCEIP $true\n",
      "\n",
      "VMware's Customer Experience Improvement Program (\"CEIP\") provides VMware with information that enables VMware to improve its products and services, to fix problems, and to advise you on how best to deploy and use our products.  As part of the CEIP, VMware collects technical information about your organization�s use of VMware products and services on a regular basis in association with your organization�s VMware license key(s).  This information does not personally identify any individual.\n",
      "\n",
      "For more details: type \"help about_ceip\" to see the related help article.\n",
      "\n",
      "To disable this warning and set your preference use the following command and restart PowerShell: \n",
      "Set-PowerCLIConfiguration -Scope User -ParticipateInCEIP $true or $false.\n",
      "                                                                                                                                                                                                                                                                                                                                                                                                                                                                                                 Add host                                                                           percent complete: 80                                                            [oooooooooooooooooooooooooooooooooooooooooooooooooooooo              ]                                                                                                                                                                       Add host                                                                           percent complete: 90                                                            [ooooooooooooooooooooooooooooooooooooooooooooooooooooooooooooo       ]                                                                                                                                                                       Add host                                                                           percent complete: 90                                                            [ooooooooooooooooooooooooooooooooooooooooooooooooooooooooooooo       ]                                                                                                                                                                                                                                                                                                                                                                                                                                                                                                      \n",
      "Name                 ConnectionState PowerState NumCpu CpuUsageMhz CpuTotalMhz\n",
      "----                 --------------- ---------- ------ ----------- -----------\n",
      "10.0.33.130          Connected       PoweredOn      20           0       43880\n",
      "\n"
     ]
    }
   ],
   "source": [
    "##  install-module VMware.PowerCLI  needed !\n",
    "\n",
    "do {\n",
    "  $ping = Test-Connection -TargetName $OSIP  -TcpPort 22\n",
    "  write-host \"waiting ...\"\n",
    "  sleep 5\n",
    "} until ($ping)\n",
    "\n",
    "write-host \"installation finished ...\"\n",
    "# join vcenter\n",
    "\n",
    "$myvcenter = Connect-VIServer -Server suo04ctcvcsa001.demo.local -Protocol https -User XXXXX -Password XXXXXX -Force\n",
    "Add-VMHost -Server \"suo04ctcvcsa001.demo.local\" -Name $OSIP -Location Democluster -User root -Password HP1nvent! -Force"
   ]
  },
  {
   "cell_type": "markdown",
   "metadata": {},
   "source": [
    "## Preperation for ESX kickstart Installation "
   ]
  },
  {
   "cell_type": "markdown",
   "metadata": {},
   "source": [
    "#### Get an ESX ISO image and mount it on an Linux Server\n",
    "#### cp -pR it to an folder\n",
    "#### Edit the boot.cfg under root of the CDROM and under the /efi/boot \n",
    "    add bootstate=0\n",
    "    title=Loading ESXi installer\n",
    "    timeout=5\n",
    "    prefix=\n",
    "    kernel=/b.b00\n",
    "    kernelopt=cdromBoot runweasel ks=http://osdepl.demo.local/esx67/ks_custom67.cfg\n",
    "#### write an new customized iso with:\n",
    "    mkisofs -relaxed-filenames -J -R -b isolinux.bin -c boot.cat -no-emul-boot -boot-load-size 4 -boot-info-table -eltorito-alt-boot -e efiboot.img -boot-load-size 1 -no-emul-boot -o /tmp/customesxi.iso .\n",
    "#### Place customized iso and kickstart file on an reachable web server\n",
    "#### dhcsp server must be available\n",
    "####  Place customized iso and kickstart file on an reachable web server\n",
    "####  create an Server Profile Template\n",
    "    with an ilo user in in\n",
    "    with an network connection where the dhcp request could be handled\n",
    "    and in my case with an SAN disk and boot from SAN configuration"
   ]
  },
  {
   "cell_type": "markdown",
   "metadata": {},
   "source": [
    "## Backup\n",
    "Redfish POSH Mount # valid certificates needed "
   ]
  },
  {
   "cell_type": "code",
   "execution_count": null,
   "metadata": {},
   "outputs": [],
   "source": [
    "$ILOTOKEN=Get-HPOVIloSso -InputObject $Server\n",
    "$ILOTOKEN"
   ]
  }
 ],
 "metadata": {
  "hide_input": false,
  "kernelspec": {
   "display_name": "PowerShell",
   "language": "powershell",
   "name": "powershell"
  },
  "language_info": {
   "codemirror_mode": "shell",
   "file_extension": ".ps1",
   "mimetype": "text/x-sh",
   "name": "powershell"
  },
  "toc": {
   "base_numbering": 1,
   "nav_menu": {},
   "number_sections": true,
   "sideBar": true,
   "skip_h1_title": false,
   "title_cell": "Table of Contents",
   "title_sidebar": "Contents",
   "toc_cell": false,
   "toc_position": {},
   "toc_section_display": true,
   "toc_window_display": false
  },
  "varInspector": {
   "cols": {
    "lenName": 16,
    "lenType": 16,
    "lenVar": 40
   },
   "kernels_config": {
    "python": {
     "delete_cmd_postfix": "",
     "delete_cmd_prefix": "del ",
     "library": "var_list.py",
     "varRefreshCmd": "print(var_dic_list())"
    },
    "r": {
     "delete_cmd_postfix": ") ",
     "delete_cmd_prefix": "rm(",
     "library": "var_list.r",
     "varRefreshCmd": "cat(var_dic_list()) "
    }
   },
   "types_to_exclude": [
    "module",
    "function",
    "builtin_function_or_method",
    "instance",
    "_Feature"
   ],
   "window_display": false
  }
 },
 "nbformat": 4,
 "nbformat_minor": 2
}
